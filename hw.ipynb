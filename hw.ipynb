{
 "cells": [
  {
   "cell_type": "markdown",
   "metadata": {},
   "source": [
    "Profiling \n",
    "\n",
    "1. card_open_np \n",
    "- removed column open_dt as it is 0 \n",
    "- removed duplicated records by cust_id\n",
    "\n",
    "2. card_open \n",
    "- removed duplicated records by cust_id and kept fisrt card opening"
   ]
  },
  {
   "cell_type": "code",
   "execution_count": 1,
   "metadata": {},
   "outputs": [],
   "source": [
    "import pandas as pd \n",
    "import pandas_profiling\n",
    "import matplotlib.pyplot as plt\n",
    "from IPython.display import Image"
   ]
  },
  {
   "cell_type": "code",
   "execution_count": 2,
   "metadata": {},
   "outputs": [],
   "source": [
    "card_open_np = pd.read_csv('data/card_openings_non_participants.csv')\n",
    "card_open = pd.read_csv('data/card_openings.csv')\n",
    "features = pd.read_csv('data/features.csv')\n",
    "#twins = pd.read_csv('data/twins_base_202112121317.csv')\n",
    "visa_com = pd.read_csv('data/visa_communications.csv')\n",
    "visa_trans = pd.read_csv('data/visa_transactions.csv')\n",
    "visa_trans_np = pd.read_csv('data/visa_transactions_non_particip.csv')"
   ]
  },
  {
   "cell_type": "code",
   "execution_count": 3,
   "metadata": {},
   "outputs": [
    {
     "name": "stdout",
     "output_type": "stream",
     "text": [
      "card_open_np shape:  (25589, 3)\n",
      "card_open shape:  (22995, 3)\n",
      "visa_com shape:  (1456826, 9)\n",
      "visa_trans shape:  (396564, 4)\n",
      "visa_trans_np shape:  (543494, 4)\n"
     ]
    }
   ],
   "source": [
    "print('card_open_np shape: ', card_open_np.shape)\n",
    "print('card_open shape: ', card_open.shape)\n",
    "#print('features shape: ', features.shape)\n",
    "#print('twins shape: ', twins.shape)\n",
    "print('visa_com shape: ', visa_com.shape)\n",
    "print('visa_trans shape: ', visa_trans.shape)\n",
    "print('visa_trans_np shape: ', visa_trans_np.shape)"
   ]
  },
  {
   "cell_type": "code",
   "execution_count": 4,
   "metadata": {},
   "outputs": [
    {
     "data": {
      "text/plain": [
       "Index(['cust_id', 'open_dt', 'contact_dt'], dtype='object')"
      ]
     },
     "execution_count": 4,
     "metadata": {},
     "output_type": "execute_result"
    }
   ],
   "source": [
    "card_open_np.columns"
   ]
  },
  {
   "cell_type": "code",
   "execution_count": 5,
   "metadata": {},
   "outputs": [],
   "source": [
    "#features.columns"
   ]
  },
  {
   "cell_type": "code",
   "execution_count": 6,
   "metadata": {},
   "outputs": [],
   "source": [
    "#twins.columns"
   ]
  },
  {
   "cell_type": "code",
   "execution_count": 7,
   "metadata": {},
   "outputs": [
    {
     "data": {
      "text/plain": [
       "Index(['channel_type', 'contact_dt', 'control_group_flg', 'sent', 'delivered',\n",
       "       'opened', 'clicked', 'blocked', 'cust_id'],\n",
       "      dtype='object')"
      ]
     },
     "execution_count": 7,
     "metadata": {},
     "output_type": "execute_result"
    }
   ],
   "source": [
    "visa_com.columns"
   ]
  },
  {
   "cell_type": "code",
   "execution_count": 8,
   "metadata": {},
   "outputs": [
    {
     "data": {
      "text/plain": [
       "Index(['cust_id', 'transaction_dt', 'mcc_id', 'txn_sum'], dtype='object')"
      ]
     },
     "execution_count": 8,
     "metadata": {},
     "output_type": "execute_result"
    }
   ],
   "source": [
    "visa_trans.columns"
   ]
  },
  {
   "cell_type": "code",
   "execution_count": 9,
   "metadata": {},
   "outputs": [],
   "source": [
    "#features.head(10)"
   ]
  },
  {
   "cell_type": "code",
   "execution_count": 10,
   "metadata": {},
   "outputs": [
    {
     "data": {
      "text/html": [
       "<div>\n",
       "<style scoped>\n",
       "    .dataframe tbody tr th:only-of-type {\n",
       "        vertical-align: middle;\n",
       "    }\n",
       "\n",
       "    .dataframe tbody tr th {\n",
       "        vertical-align: top;\n",
       "    }\n",
       "\n",
       "    .dataframe thead th {\n",
       "        text-align: right;\n",
       "    }\n",
       "</style>\n",
       "<table border=\"1\" class=\"dataframe\">\n",
       "  <thead>\n",
       "    <tr style=\"text-align: right;\">\n",
       "      <th></th>\n",
       "      <th>cust_id</th>\n",
       "      <th>transaction_dt</th>\n",
       "      <th>mcc_id</th>\n",
       "      <th>txn_sum</th>\n",
       "    </tr>\n",
       "  </thead>\n",
       "  <tbody>\n",
       "    <tr>\n",
       "      <th>0</th>\n",
       "      <td>db5e62076fad2729571f211d7ca4d5be1ba71e7563efbb...</td>\n",
       "      <td>2021-09-09</td>\n",
       "      <td>5399</td>\n",
       "      <td>2322.00</td>\n",
       "    </tr>\n",
       "    <tr>\n",
       "      <th>1</th>\n",
       "      <td>9fc01d326a0adcb9caaabe298064b8a26aa711878cf89f...</td>\n",
       "      <td>2021-09-07</td>\n",
       "      <td>5533</td>\n",
       "      <td>1245.00</td>\n",
       "    </tr>\n",
       "    <tr>\n",
       "      <th>2</th>\n",
       "      <td>7afcb430aaf9baa1786d36ffcdf3efec0f4f6fe41b32fc...</td>\n",
       "      <td>2021-08-30</td>\n",
       "      <td>5921</td>\n",
       "      <td>29.99</td>\n",
       "    </tr>\n",
       "    <tr>\n",
       "      <th>3</th>\n",
       "      <td>79a2d16cd93c5d15120f30f4a6a0b39060f6cdde7486c8...</td>\n",
       "      <td>2021-09-04</td>\n",
       "      <td>5211</td>\n",
       "      <td>110.00</td>\n",
       "    </tr>\n",
       "    <tr>\n",
       "      <th>4</th>\n",
       "      <td>0c10b18ba26cb55e4b1aed9146cf359d034fa872feeba6...</td>\n",
       "      <td>2021-08-31</td>\n",
       "      <td>5441</td>\n",
       "      <td>45.00</td>\n",
       "    </tr>\n",
       "    <tr>\n",
       "      <th>5</th>\n",
       "      <td>80dee4219eef1bbf3102caddc2a185bebe4e60e055a6e3...</td>\n",
       "      <td>2021-09-15</td>\n",
       "      <td>5411</td>\n",
       "      <td>263.65</td>\n",
       "    </tr>\n",
       "    <tr>\n",
       "      <th>6</th>\n",
       "      <td>188c790564fd3184365262fc50c114b03fb7204d95145d...</td>\n",
       "      <td>2021-09-03</td>\n",
       "      <td>5411</td>\n",
       "      <td>129.00</td>\n",
       "    </tr>\n",
       "    <tr>\n",
       "      <th>7</th>\n",
       "      <td>1ef28607bf5bd0ffe7a667adef4a1769ede8e93284a713...</td>\n",
       "      <td>2021-09-08</td>\n",
       "      <td>5411</td>\n",
       "      <td>1411.00</td>\n",
       "    </tr>\n",
       "    <tr>\n",
       "      <th>8</th>\n",
       "      <td>ec1acb6ccaaf88034067b0d58bb0b70621d8e7603a8ad9...</td>\n",
       "      <td>2021-08-22</td>\n",
       "      <td>5977</td>\n",
       "      <td>687.00</td>\n",
       "    </tr>\n",
       "    <tr>\n",
       "      <th>9</th>\n",
       "      <td>d33ced03426b6230fabdcbd4586146fb54319d7457ac63...</td>\n",
       "      <td>2021-08-28</td>\n",
       "      <td>4722</td>\n",
       "      <td>36360.00</td>\n",
       "    </tr>\n",
       "  </tbody>\n",
       "</table>\n",
       "</div>"
      ],
      "text/plain": [
       "                                             cust_id transaction_dt  mcc_id  \\\n",
       "0  db5e62076fad2729571f211d7ca4d5be1ba71e7563efbb...     2021-09-09    5399   \n",
       "1  9fc01d326a0adcb9caaabe298064b8a26aa711878cf89f...     2021-09-07    5533   \n",
       "2  7afcb430aaf9baa1786d36ffcdf3efec0f4f6fe41b32fc...     2021-08-30    5921   \n",
       "3  79a2d16cd93c5d15120f30f4a6a0b39060f6cdde7486c8...     2021-09-04    5211   \n",
       "4  0c10b18ba26cb55e4b1aed9146cf359d034fa872feeba6...     2021-08-31    5441   \n",
       "5  80dee4219eef1bbf3102caddc2a185bebe4e60e055a6e3...     2021-09-15    5411   \n",
       "6  188c790564fd3184365262fc50c114b03fb7204d95145d...     2021-09-03    5411   \n",
       "7  1ef28607bf5bd0ffe7a667adef4a1769ede8e93284a713...     2021-09-08    5411   \n",
       "8  ec1acb6ccaaf88034067b0d58bb0b70621d8e7603a8ad9...     2021-08-22    5977   \n",
       "9  d33ced03426b6230fabdcbd4586146fb54319d7457ac63...     2021-08-28    4722   \n",
       "\n",
       "    txn_sum  \n",
       "0   2322.00  \n",
       "1   1245.00  \n",
       "2     29.99  \n",
       "3    110.00  \n",
       "4     45.00  \n",
       "5    263.65  \n",
       "6    129.00  \n",
       "7   1411.00  \n",
       "8    687.00  \n",
       "9  36360.00  "
      ]
     },
     "execution_count": 10,
     "metadata": {},
     "output_type": "execute_result"
    }
   ],
   "source": [
    "visa_trans.head(10)"
   ]
  },
  {
   "cell_type": "code",
   "execution_count": 11,
   "metadata": {},
   "outputs": [
    {
     "data": {
      "text/html": [
       "<div>\n",
       "<style scoped>\n",
       "    .dataframe tbody tr th:only-of-type {\n",
       "        vertical-align: middle;\n",
       "    }\n",
       "\n",
       "    .dataframe tbody tr th {\n",
       "        vertical-align: top;\n",
       "    }\n",
       "\n",
       "    .dataframe thead th {\n",
       "        text-align: right;\n",
       "    }\n",
       "</style>\n",
       "<table border=\"1\" class=\"dataframe\">\n",
       "  <thead>\n",
       "    <tr style=\"text-align: right;\">\n",
       "      <th></th>\n",
       "      <th>cust_id</th>\n",
       "      <th>open_dt</th>\n",
       "      <th>contact_dt</th>\n",
       "    </tr>\n",
       "  </thead>\n",
       "  <tbody>\n",
       "    <tr>\n",
       "      <th>0</th>\n",
       "      <td>2537ec14c2e5b8607ea67dfe09ec687205c59ed152407f...</td>\n",
       "      <td>2021-08-19</td>\n",
       "      <td>2021-08-12</td>\n",
       "    </tr>\n",
       "    <tr>\n",
       "      <th>1</th>\n",
       "      <td>b6bc9799397f07c8304673d4d51e7788a143ecb710452e...</td>\n",
       "      <td>2021-08-16</td>\n",
       "      <td>2021-08-13</td>\n",
       "    </tr>\n",
       "    <tr>\n",
       "      <th>2</th>\n",
       "      <td>d09ee17e668f229697a15a940915714b838826305e6973...</td>\n",
       "      <td>2021-08-21</td>\n",
       "      <td>2021-08-13</td>\n",
       "    </tr>\n",
       "    <tr>\n",
       "      <th>3</th>\n",
       "      <td>2323b4ae10e99e72160a74c5b42c38e47f2bc0692ef0a9...</td>\n",
       "      <td>2021-08-23</td>\n",
       "      <td>2021-08-13</td>\n",
       "    </tr>\n",
       "    <tr>\n",
       "      <th>4</th>\n",
       "      <td>b056b9822c2208a83eeb7150ee4be30d7088b07fed0ec5...</td>\n",
       "      <td>2021-08-23</td>\n",
       "      <td>2021-08-13</td>\n",
       "    </tr>\n",
       "  </tbody>\n",
       "</table>\n",
       "</div>"
      ],
      "text/plain": [
       "                                             cust_id     open_dt  contact_dt\n",
       "0  2537ec14c2e5b8607ea67dfe09ec687205c59ed152407f...  2021-08-19  2021-08-12\n",
       "1  b6bc9799397f07c8304673d4d51e7788a143ecb710452e...  2021-08-16  2021-08-13\n",
       "2  d09ee17e668f229697a15a940915714b838826305e6973...  2021-08-21  2021-08-13\n",
       "3  2323b4ae10e99e72160a74c5b42c38e47f2bc0692ef0a9...  2021-08-23  2021-08-13\n",
       "4  b056b9822c2208a83eeb7150ee4be30d7088b07fed0ec5...  2021-08-23  2021-08-13"
      ]
     },
     "execution_count": 11,
     "metadata": {},
     "output_type": "execute_result"
    }
   ],
   "source": [
    "card_open.head()"
   ]
  },
  {
   "cell_type": "code",
   "execution_count": 12,
   "metadata": {},
   "outputs": [],
   "source": [
    "#card_open_np_pr = card_open_np.profile_report(minimal=True, title='card_open_np')\n",
    "#card_open_np_pr.to_file(\"card_open_np_pr.html\")"
   ]
  },
  {
   "cell_type": "code",
   "execution_count": 13,
   "metadata": {},
   "outputs": [],
   "source": [
    "#card_open_pr = card_open.profile_report(minimal=True, title='card_open')\n",
    "#card_open_pr.to_file(\"card_open_pr.html\")"
   ]
  },
  {
   "cell_type": "code",
   "execution_count": 14,
   "metadata": {},
   "outputs": [],
   "source": [
    "#features_pr = features.profile_report(minimal=True)\n",
    "#features_pr.to_file(\"features_pr.html\")"
   ]
  },
  {
   "cell_type": "code",
   "execution_count": 15,
   "metadata": {},
   "outputs": [],
   "source": [
    "#visa_com_pr = visa_com.profile_report(minimal=True, title='visa_com')\n",
    "#visa_com_pr.to_file(\"visa_com_pr.html\")"
   ]
  },
  {
   "cell_type": "code",
   "execution_count": 16,
   "metadata": {},
   "outputs": [],
   "source": [
    "#visa_trans_pr = visa_trans.profile_report(minimal=True, title='visa_trans')\n",
    "#visa_trans_pr.to_file(\"visa_trans_pr.html\")"
   ]
  },
  {
   "cell_type": "code",
   "execution_count": 17,
   "metadata": {},
   "outputs": [],
   "source": [
    "#visa_trans_np_pr = visa_trans_np.profile_report(minimal=True, title=\"visa_trans_np\")\n",
    "#visa_trans_np_pr.to_file(\"visa_trans_np_pr.html\")"
   ]
  },
  {
   "cell_type": "code",
   "execution_count": 18,
   "metadata": {},
   "outputs": [
    {
     "data": {
      "text/html": [
       "<div>\n",
       "<style scoped>\n",
       "    .dataframe tbody tr th:only-of-type {\n",
       "        vertical-align: middle;\n",
       "    }\n",
       "\n",
       "    .dataframe tbody tr th {\n",
       "        vertical-align: top;\n",
       "    }\n",
       "\n",
       "    .dataframe thead th {\n",
       "        text-align: right;\n",
       "    }\n",
       "</style>\n",
       "<table border=\"1\" class=\"dataframe\">\n",
       "  <thead>\n",
       "    <tr style=\"text-align: right;\">\n",
       "      <th></th>\n",
       "      <th>cust_id</th>\n",
       "      <th>open_dt</th>\n",
       "      <th>contact_dt</th>\n",
       "    </tr>\n",
       "  </thead>\n",
       "  <tbody>\n",
       "  </tbody>\n",
       "</table>\n",
       "</div>"
      ],
      "text/plain": [
       "Empty DataFrame\n",
       "Columns: [cust_id, open_dt, contact_dt]\n",
       "Index: []"
      ]
     },
     "execution_count": 18,
     "metadata": {},
     "output_type": "execute_result"
    }
   ],
   "source": [
    "card_open_np[card_open_np.duplicated()]"
   ]
  },
  {
   "cell_type": "code",
   "execution_count": 19,
   "metadata": {},
   "outputs": [
    {
     "data": {
      "text/plain": [
       "c650975331853d5c6eecb0e587beabddf55b72f46110fe471714e4b2bdb4d1cc    20\n",
       "4401403bdcff9ff580b1b3f09056cdb426f3bbefd1295be994588e67637266fb    19\n",
       "5694746880d4a5a7596f3ca9563003321f850de091cb0daa6ad39e7a2defc1de    18\n",
       "9039c4bf6e69bc1461033578e9a64123389f6c7c145a4532d719024680826ea2    16\n",
       "6462dc729d57a81f246c5ea10cdd56ce14f625f7faffcb9913c90059e7fda121    16\n",
       "                                                                    ..\n",
       "5ec07838bbc85f7cef5a5ae69b87c266dc64dacd5f330cd4d179b799948dbb1a     1\n",
       "5dd021cc2a4efa09654715cbf6ef47d9d97d1e3e87b2f78a47611f0aece6cf27     1\n",
       "5d8698fc45d7947e0d1feed4fe8b93e942229fac8ac5a3e4c26d11367a78a195     1\n",
       "5cae4af707de5a0c1d7e54222212d37a0eac1e0b24ff3bcc8be0017d6edcb65c     1\n",
       "fff4369039a3427eef730c44f5c9460458339b9d010e55c991a9eb1b8f811a20     1\n",
       "Name: cust_id, Length: 23943, dtype: int64"
      ]
     },
     "execution_count": 19,
     "metadata": {},
     "output_type": "execute_result"
    }
   ],
   "source": [
    "card_open_np['cust_id'].value_counts()"
   ]
  },
  {
   "cell_type": "code",
   "execution_count": 20,
   "metadata": {},
   "outputs": [
    {
     "data": {
      "text/html": [
       "<div>\n",
       "<style scoped>\n",
       "    .dataframe tbody tr th:only-of-type {\n",
       "        vertical-align: middle;\n",
       "    }\n",
       "\n",
       "    .dataframe tbody tr th {\n",
       "        vertical-align: top;\n",
       "    }\n",
       "\n",
       "    .dataframe thead th {\n",
       "        text-align: right;\n",
       "    }\n",
       "</style>\n",
       "<table border=\"1\" class=\"dataframe\">\n",
       "  <thead>\n",
       "    <tr style=\"text-align: right;\">\n",
       "      <th></th>\n",
       "      <th>cust_id</th>\n",
       "      <th>open_dt</th>\n",
       "      <th>contact_dt</th>\n",
       "    </tr>\n",
       "  </thead>\n",
       "  <tbody>\n",
       "    <tr>\n",
       "      <th>21200</th>\n",
       "      <td>c650975331853d5c6eecb0e587beabddf55b72f46110fe...</td>\n",
       "      <td>2021-08-02</td>\n",
       "      <td>0</td>\n",
       "    </tr>\n",
       "    <tr>\n",
       "      <th>23465</th>\n",
       "      <td>c650975331853d5c6eecb0e587beabddf55b72f46110fe...</td>\n",
       "      <td>2021-08-03</td>\n",
       "      <td>0</td>\n",
       "    </tr>\n",
       "    <tr>\n",
       "      <th>19322</th>\n",
       "      <td>c650975331853d5c6eecb0e587beabddf55b72f46110fe...</td>\n",
       "      <td>2021-08-05</td>\n",
       "      <td>0</td>\n",
       "    </tr>\n",
       "    <tr>\n",
       "      <th>22287</th>\n",
       "      <td>c650975331853d5c6eecb0e587beabddf55b72f46110fe...</td>\n",
       "      <td>2021-08-06</td>\n",
       "      <td>0</td>\n",
       "    </tr>\n",
       "    <tr>\n",
       "      <th>17863</th>\n",
       "      <td>c650975331853d5c6eecb0e587beabddf55b72f46110fe...</td>\n",
       "      <td>2021-08-08</td>\n",
       "      <td>0</td>\n",
       "    </tr>\n",
       "    <tr>\n",
       "      <th>17653</th>\n",
       "      <td>c650975331853d5c6eecb0e587beabddf55b72f46110fe...</td>\n",
       "      <td>2021-08-10</td>\n",
       "      <td>0</td>\n",
       "    </tr>\n",
       "    <tr>\n",
       "      <th>21534</th>\n",
       "      <td>c650975331853d5c6eecb0e587beabddf55b72f46110fe...</td>\n",
       "      <td>2021-08-11</td>\n",
       "      <td>0</td>\n",
       "    </tr>\n",
       "    <tr>\n",
       "      <th>15578</th>\n",
       "      <td>c650975331853d5c6eecb0e587beabddf55b72f46110fe...</td>\n",
       "      <td>2021-08-13</td>\n",
       "      <td>0</td>\n",
       "    </tr>\n",
       "    <tr>\n",
       "      <th>20096</th>\n",
       "      <td>c650975331853d5c6eecb0e587beabddf55b72f46110fe...</td>\n",
       "      <td>2021-08-16</td>\n",
       "      <td>0</td>\n",
       "    </tr>\n",
       "    <tr>\n",
       "      <th>19711</th>\n",
       "      <td>c650975331853d5c6eecb0e587beabddf55b72f46110fe...</td>\n",
       "      <td>2021-08-17</td>\n",
       "      <td>0</td>\n",
       "    </tr>\n",
       "    <tr>\n",
       "      <th>22684</th>\n",
       "      <td>c650975331853d5c6eecb0e587beabddf55b72f46110fe...</td>\n",
       "      <td>2021-08-18</td>\n",
       "      <td>0</td>\n",
       "    </tr>\n",
       "    <tr>\n",
       "      <th>20930</th>\n",
       "      <td>c650975331853d5c6eecb0e587beabddf55b72f46110fe...</td>\n",
       "      <td>2021-08-19</td>\n",
       "      <td>0</td>\n",
       "    </tr>\n",
       "    <tr>\n",
       "      <th>18310</th>\n",
       "      <td>c650975331853d5c6eecb0e587beabddf55b72f46110fe...</td>\n",
       "      <td>2021-08-20</td>\n",
       "      <td>0</td>\n",
       "    </tr>\n",
       "    <tr>\n",
       "      <th>21911</th>\n",
       "      <td>c650975331853d5c6eecb0e587beabddf55b72f46110fe...</td>\n",
       "      <td>2021-08-23</td>\n",
       "      <td>0</td>\n",
       "    </tr>\n",
       "    <tr>\n",
       "      <th>23398</th>\n",
       "      <td>c650975331853d5c6eecb0e587beabddf55b72f46110fe...</td>\n",
       "      <td>2021-08-24</td>\n",
       "      <td>0</td>\n",
       "    </tr>\n",
       "    <tr>\n",
       "      <th>22962</th>\n",
       "      <td>c650975331853d5c6eecb0e587beabddf55b72f46110fe...</td>\n",
       "      <td>2021-08-25</td>\n",
       "      <td>0</td>\n",
       "    </tr>\n",
       "    <tr>\n",
       "      <th>17654</th>\n",
       "      <td>c650975331853d5c6eecb0e587beabddf55b72f46110fe...</td>\n",
       "      <td>2021-08-26</td>\n",
       "      <td>0</td>\n",
       "    </tr>\n",
       "    <tr>\n",
       "      <th>21289</th>\n",
       "      <td>c650975331853d5c6eecb0e587beabddf55b72f46110fe...</td>\n",
       "      <td>2021-08-29</td>\n",
       "      <td>0</td>\n",
       "    </tr>\n",
       "    <tr>\n",
       "      <th>20280</th>\n",
       "      <td>c650975331853d5c6eecb0e587beabddf55b72f46110fe...</td>\n",
       "      <td>2021-08-30</td>\n",
       "      <td>0</td>\n",
       "    </tr>\n",
       "    <tr>\n",
       "      <th>21108</th>\n",
       "      <td>c650975331853d5c6eecb0e587beabddf55b72f46110fe...</td>\n",
       "      <td>2021-08-31</td>\n",
       "      <td>0</td>\n",
       "    </tr>\n",
       "  </tbody>\n",
       "</table>\n",
       "</div>"
      ],
      "text/plain": [
       "                                                 cust_id     open_dt  \\\n",
       "21200  c650975331853d5c6eecb0e587beabddf55b72f46110fe...  2021-08-02   \n",
       "23465  c650975331853d5c6eecb0e587beabddf55b72f46110fe...  2021-08-03   \n",
       "19322  c650975331853d5c6eecb0e587beabddf55b72f46110fe...  2021-08-05   \n",
       "22287  c650975331853d5c6eecb0e587beabddf55b72f46110fe...  2021-08-06   \n",
       "17863  c650975331853d5c6eecb0e587beabddf55b72f46110fe...  2021-08-08   \n",
       "17653  c650975331853d5c6eecb0e587beabddf55b72f46110fe...  2021-08-10   \n",
       "21534  c650975331853d5c6eecb0e587beabddf55b72f46110fe...  2021-08-11   \n",
       "15578  c650975331853d5c6eecb0e587beabddf55b72f46110fe...  2021-08-13   \n",
       "20096  c650975331853d5c6eecb0e587beabddf55b72f46110fe...  2021-08-16   \n",
       "19711  c650975331853d5c6eecb0e587beabddf55b72f46110fe...  2021-08-17   \n",
       "22684  c650975331853d5c6eecb0e587beabddf55b72f46110fe...  2021-08-18   \n",
       "20930  c650975331853d5c6eecb0e587beabddf55b72f46110fe...  2021-08-19   \n",
       "18310  c650975331853d5c6eecb0e587beabddf55b72f46110fe...  2021-08-20   \n",
       "21911  c650975331853d5c6eecb0e587beabddf55b72f46110fe...  2021-08-23   \n",
       "23398  c650975331853d5c6eecb0e587beabddf55b72f46110fe...  2021-08-24   \n",
       "22962  c650975331853d5c6eecb0e587beabddf55b72f46110fe...  2021-08-25   \n",
       "17654  c650975331853d5c6eecb0e587beabddf55b72f46110fe...  2021-08-26   \n",
       "21289  c650975331853d5c6eecb0e587beabddf55b72f46110fe...  2021-08-29   \n",
       "20280  c650975331853d5c6eecb0e587beabddf55b72f46110fe...  2021-08-30   \n",
       "21108  c650975331853d5c6eecb0e587beabddf55b72f46110fe...  2021-08-31   \n",
       "\n",
       "       contact_dt  \n",
       "21200           0  \n",
       "23465           0  \n",
       "19322           0  \n",
       "22287           0  \n",
       "17863           0  \n",
       "17653           0  \n",
       "21534           0  \n",
       "15578           0  \n",
       "20096           0  \n",
       "19711           0  \n",
       "22684           0  \n",
       "20930           0  \n",
       "18310           0  \n",
       "21911           0  \n",
       "23398           0  \n",
       "22962           0  \n",
       "17654           0  \n",
       "21289           0  \n",
       "20280           0  \n",
       "21108           0  "
      ]
     },
     "execution_count": 20,
     "metadata": {},
     "output_type": "execute_result"
    }
   ],
   "source": [
    "card_open_np[card_open_np['cust_id'] == 'c650975331853d5c6eecb0e587beabddf55b72f46110fe471714e4b2bdb4d1cc'].sort_values('open_dt')"
   ]
  },
  {
   "cell_type": "markdown",
   "metadata": {},
   "source": [
    "It looks that customer opened the card 20 times during month, which is strange"
   ]
  },
  {
   "cell_type": "code",
   "execution_count": 21,
   "metadata": {},
   "outputs": [
    {
     "data": {
      "text/html": [
       "<div>\n",
       "<style scoped>\n",
       "    .dataframe tbody tr th:only-of-type {\n",
       "        vertical-align: middle;\n",
       "    }\n",
       "\n",
       "    .dataframe tbody tr th {\n",
       "        vertical-align: top;\n",
       "    }\n",
       "\n",
       "    .dataframe thead th {\n",
       "        text-align: right;\n",
       "    }\n",
       "</style>\n",
       "<table border=\"1\" class=\"dataframe\">\n",
       "  <thead>\n",
       "    <tr style=\"text-align: right;\">\n",
       "      <th></th>\n",
       "      <th>cust_id</th>\n",
       "      <th>open_dt</th>\n",
       "      <th>contact_dt</th>\n",
       "    </tr>\n",
       "  </thead>\n",
       "  <tbody>\n",
       "  </tbody>\n",
       "</table>\n",
       "</div>"
      ],
      "text/plain": [
       "Empty DataFrame\n",
       "Columns: [cust_id, open_dt, contact_dt]\n",
       "Index: []"
      ]
     },
     "execution_count": 21,
     "metadata": {},
     "output_type": "execute_result"
    }
   ],
   "source": [
    "card_open_np[card_open_np['contact_dt'] != 0]"
   ]
  },
  {
   "cell_type": "markdown",
   "metadata": {},
   "source": [
    "Contact date is 0, because this people were not contacted by our marketing compaing "
   ]
  },
  {
   "cell_type": "code",
   "execution_count": 22,
   "metadata": {},
   "outputs": [],
   "source": [
    "#let's remove 0 column and remove duplicated \n",
    "card_open_np = card_open_np[['cust_id', 'open_dt']].drop_duplicates('cust_id')"
   ]
  },
  {
   "cell_type": "code",
   "execution_count": 23,
   "metadata": {},
   "outputs": [
    {
     "data": {
      "text/plain": [
       "(23943, 2)"
      ]
     },
     "execution_count": 23,
     "metadata": {},
     "output_type": "execute_result"
    }
   ],
   "source": [
    "card_open_np.shape"
   ]
  },
  {
   "cell_type": "code",
   "execution_count": 24,
   "metadata": {},
   "outputs": [
    {
     "data": {
      "text/html": [
       "<div>\n",
       "<style scoped>\n",
       "    .dataframe tbody tr th:only-of-type {\n",
       "        vertical-align: middle;\n",
       "    }\n",
       "\n",
       "    .dataframe tbody tr th {\n",
       "        vertical-align: top;\n",
       "    }\n",
       "\n",
       "    .dataframe thead th {\n",
       "        text-align: right;\n",
       "    }\n",
       "</style>\n",
       "<table border=\"1\" class=\"dataframe\">\n",
       "  <thead>\n",
       "    <tr style=\"text-align: right;\">\n",
       "      <th></th>\n",
       "      <th>cust_id</th>\n",
       "      <th>open_dt</th>\n",
       "      <th>contact_dt</th>\n",
       "    </tr>\n",
       "  </thead>\n",
       "  <tbody>\n",
       "    <tr>\n",
       "      <th>0</th>\n",
       "      <td>2537ec14c2e5b8607ea67dfe09ec687205c59ed152407f...</td>\n",
       "      <td>2021-08-19</td>\n",
       "      <td>2021-08-12</td>\n",
       "    </tr>\n",
       "    <tr>\n",
       "      <th>1</th>\n",
       "      <td>b6bc9799397f07c8304673d4d51e7788a143ecb710452e...</td>\n",
       "      <td>2021-08-16</td>\n",
       "      <td>2021-08-13</td>\n",
       "    </tr>\n",
       "    <tr>\n",
       "      <th>2</th>\n",
       "      <td>d09ee17e668f229697a15a940915714b838826305e6973...</td>\n",
       "      <td>2021-08-21</td>\n",
       "      <td>2021-08-13</td>\n",
       "    </tr>\n",
       "    <tr>\n",
       "      <th>3</th>\n",
       "      <td>2323b4ae10e99e72160a74c5b42c38e47f2bc0692ef0a9...</td>\n",
       "      <td>2021-08-23</td>\n",
       "      <td>2021-08-13</td>\n",
       "    </tr>\n",
       "    <tr>\n",
       "      <th>4</th>\n",
       "      <td>b056b9822c2208a83eeb7150ee4be30d7088b07fed0ec5...</td>\n",
       "      <td>2021-08-23</td>\n",
       "      <td>2021-08-13</td>\n",
       "    </tr>\n",
       "  </tbody>\n",
       "</table>\n",
       "</div>"
      ],
      "text/plain": [
       "                                             cust_id     open_dt  contact_dt\n",
       "0  2537ec14c2e5b8607ea67dfe09ec687205c59ed152407f...  2021-08-19  2021-08-12\n",
       "1  b6bc9799397f07c8304673d4d51e7788a143ecb710452e...  2021-08-16  2021-08-13\n",
       "2  d09ee17e668f229697a15a940915714b838826305e6973...  2021-08-21  2021-08-13\n",
       "3  2323b4ae10e99e72160a74c5b42c38e47f2bc0692ef0a9...  2021-08-23  2021-08-13\n",
       "4  b056b9822c2208a83eeb7150ee4be30d7088b07fed0ec5...  2021-08-23  2021-08-13"
      ]
     },
     "execution_count": 24,
     "metadata": {},
     "output_type": "execute_result"
    }
   ],
   "source": [
    "card_open.head()"
   ]
  },
  {
   "cell_type": "code",
   "execution_count": 25,
   "metadata": {},
   "outputs": [
    {
     "data": {
      "text/plain": [
       "fa4aeb57cc6f9cf63661203bfa17635e247cbca3d2c018ca2353151d53f78ade    12\n",
       "79a9899f62af1d1f5068defe1e72bce115daec35cc66bd50abad235fd7862d24    11\n",
       "54e8145c0dd74d55d1a73270675d1ce279a7840bbbedb44c0c9929cb83978ed5     9\n",
       "11af55afd2e18c1eddfc06840276cbddae409245cc44633c30784ea3921b3e2f     8\n",
       "cdffcb92257172f1da471edcb7c485256a979e41b708d31c6aac2dd110039d43     8\n",
       "                                                                    ..\n",
       "820deda4c26b09bfe11ff877dd849e54579e02be4f0c3ee3d4fc0f4d9508a145     1\n",
       "a619ff1d5b7b29751c0c217c1993a54b70621652fd3eeba278093bbb8be9e024     1\n",
       "ac9b88aad47cddbe60d02ad87bb281a570f27b4c9187596ebf023ecd711141a2     1\n",
       "dc82cc791ce8f60d1d79598624fb85da5a3ed2624958a103695a093df6d8280a     1\n",
       "7d48d9923ca9780e9f4eabbc437f275452434c9187ddfed19debe6890422f8c7     1\n",
       "Name: cust_id, Length: 21424, dtype: int64"
      ]
     },
     "execution_count": 25,
     "metadata": {},
     "output_type": "execute_result"
    }
   ],
   "source": [
    "card_open['cust_id'].value_counts()"
   ]
  },
  {
   "cell_type": "code",
   "execution_count": 26,
   "metadata": {},
   "outputs": [
    {
     "data": {
      "text/html": [
       "<div>\n",
       "<style scoped>\n",
       "    .dataframe tbody tr th:only-of-type {\n",
       "        vertical-align: middle;\n",
       "    }\n",
       "\n",
       "    .dataframe tbody tr th {\n",
       "        vertical-align: top;\n",
       "    }\n",
       "\n",
       "    .dataframe thead th {\n",
       "        text-align: right;\n",
       "    }\n",
       "</style>\n",
       "<table border=\"1\" class=\"dataframe\">\n",
       "  <thead>\n",
       "    <tr style=\"text-align: right;\">\n",
       "      <th></th>\n",
       "      <th>cust_id</th>\n",
       "      <th>open_dt</th>\n",
       "      <th>contact_dt</th>\n",
       "    </tr>\n",
       "  </thead>\n",
       "  <tbody>\n",
       "    <tr>\n",
       "      <th>20217</th>\n",
       "      <td>fa4aeb57cc6f9cf63661203bfa17635e247cbca3d2c018...</td>\n",
       "      <td>2021-08-12</td>\n",
       "      <td>2021-08-12</td>\n",
       "    </tr>\n",
       "    <tr>\n",
       "      <th>4843</th>\n",
       "      <td>fa4aeb57cc6f9cf63661203bfa17635e247cbca3d2c018...</td>\n",
       "      <td>2021-08-13</td>\n",
       "      <td>2021-08-12</td>\n",
       "    </tr>\n",
       "    <tr>\n",
       "      <th>11070</th>\n",
       "      <td>fa4aeb57cc6f9cf63661203bfa17635e247cbca3d2c018...</td>\n",
       "      <td>2021-08-14</td>\n",
       "      <td>2021-08-12</td>\n",
       "    </tr>\n",
       "    <tr>\n",
       "      <th>6212</th>\n",
       "      <td>fa4aeb57cc6f9cf63661203bfa17635e247cbca3d2c018...</td>\n",
       "      <td>2021-08-15</td>\n",
       "      <td>2021-08-12</td>\n",
       "    </tr>\n",
       "    <tr>\n",
       "      <th>20241</th>\n",
       "      <td>fa4aeb57cc6f9cf63661203bfa17635e247cbca3d2c018...</td>\n",
       "      <td>2021-08-17</td>\n",
       "      <td>2021-08-12</td>\n",
       "    </tr>\n",
       "    <tr>\n",
       "      <th>6601</th>\n",
       "      <td>fa4aeb57cc6f9cf63661203bfa17635e247cbca3d2c018...</td>\n",
       "      <td>2021-08-19</td>\n",
       "      <td>2021-08-12</td>\n",
       "    </tr>\n",
       "    <tr>\n",
       "      <th>4365</th>\n",
       "      <td>fa4aeb57cc6f9cf63661203bfa17635e247cbca3d2c018...</td>\n",
       "      <td>2021-08-20</td>\n",
       "      <td>2021-08-12</td>\n",
       "    </tr>\n",
       "    <tr>\n",
       "      <th>7229</th>\n",
       "      <td>fa4aeb57cc6f9cf63661203bfa17635e247cbca3d2c018...</td>\n",
       "      <td>2021-08-22</td>\n",
       "      <td>2021-08-12</td>\n",
       "    </tr>\n",
       "    <tr>\n",
       "      <th>16178</th>\n",
       "      <td>fa4aeb57cc6f9cf63661203bfa17635e247cbca3d2c018...</td>\n",
       "      <td>2021-08-23</td>\n",
       "      <td>2021-08-12</td>\n",
       "    </tr>\n",
       "    <tr>\n",
       "      <th>36</th>\n",
       "      <td>fa4aeb57cc6f9cf63661203bfa17635e247cbca3d2c018...</td>\n",
       "      <td>2021-08-24</td>\n",
       "      <td>2021-08-12</td>\n",
       "    </tr>\n",
       "    <tr>\n",
       "      <th>5968</th>\n",
       "      <td>fa4aeb57cc6f9cf63661203bfa17635e247cbca3d2c018...</td>\n",
       "      <td>2021-08-25</td>\n",
       "      <td>2021-08-12</td>\n",
       "    </tr>\n",
       "    <tr>\n",
       "      <th>4567</th>\n",
       "      <td>fa4aeb57cc6f9cf63661203bfa17635e247cbca3d2c018...</td>\n",
       "      <td>2021-08-26</td>\n",
       "      <td>2021-08-12</td>\n",
       "    </tr>\n",
       "  </tbody>\n",
       "</table>\n",
       "</div>"
      ],
      "text/plain": [
       "                                                 cust_id     open_dt  \\\n",
       "20217  fa4aeb57cc6f9cf63661203bfa17635e247cbca3d2c018...  2021-08-12   \n",
       "4843   fa4aeb57cc6f9cf63661203bfa17635e247cbca3d2c018...  2021-08-13   \n",
       "11070  fa4aeb57cc6f9cf63661203bfa17635e247cbca3d2c018...  2021-08-14   \n",
       "6212   fa4aeb57cc6f9cf63661203bfa17635e247cbca3d2c018...  2021-08-15   \n",
       "20241  fa4aeb57cc6f9cf63661203bfa17635e247cbca3d2c018...  2021-08-17   \n",
       "6601   fa4aeb57cc6f9cf63661203bfa17635e247cbca3d2c018...  2021-08-19   \n",
       "4365   fa4aeb57cc6f9cf63661203bfa17635e247cbca3d2c018...  2021-08-20   \n",
       "7229   fa4aeb57cc6f9cf63661203bfa17635e247cbca3d2c018...  2021-08-22   \n",
       "16178  fa4aeb57cc6f9cf63661203bfa17635e247cbca3d2c018...  2021-08-23   \n",
       "36     fa4aeb57cc6f9cf63661203bfa17635e247cbca3d2c018...  2021-08-24   \n",
       "5968   fa4aeb57cc6f9cf63661203bfa17635e247cbca3d2c018...  2021-08-25   \n",
       "4567   fa4aeb57cc6f9cf63661203bfa17635e247cbca3d2c018...  2021-08-26   \n",
       "\n",
       "       contact_dt  \n",
       "20217  2021-08-12  \n",
       "4843   2021-08-12  \n",
       "11070  2021-08-12  \n",
       "6212   2021-08-12  \n",
       "20241  2021-08-12  \n",
       "6601   2021-08-12  \n",
       "4365   2021-08-12  \n",
       "7229   2021-08-12  \n",
       "16178  2021-08-12  \n",
       "36     2021-08-12  \n",
       "5968   2021-08-12  \n",
       "4567   2021-08-12  "
      ]
     },
     "execution_count": 26,
     "metadata": {},
     "output_type": "execute_result"
    }
   ],
   "source": [
    "card_open[card_open['cust_id'] == 'fa4aeb57cc6f9cf63661203bfa17635e247cbca3d2c018ca2353151d53f78ade'].sort_values('open_dt')"
   ]
  },
  {
   "cell_type": "code",
   "execution_count": 27,
   "metadata": {},
   "outputs": [],
   "source": [
    "#drop duplicated customers and keep their first open card\n",
    "card_open = card_open.sort_values('open_dt').drop_duplicates('cust_id', keep='first')"
   ]
  },
  {
   "cell_type": "code",
   "execution_count": 28,
   "metadata": {},
   "outputs": [
    {
     "data": {
      "text/plain": [
       "(21424, 3)"
      ]
     },
     "execution_count": 28,
     "metadata": {},
     "output_type": "execute_result"
    }
   ],
   "source": [
    "card_open.shape"
   ]
  },
  {
   "cell_type": "code",
   "execution_count": 29,
   "metadata": {},
   "outputs": [],
   "source": [
    "card_open['open_dt'] = pd.to_datetime(card_open['open_dt'])\n",
    "card_open['contact_dt'] = pd.to_datetime(card_open['contact_dt'])"
   ]
  },
  {
   "cell_type": "code",
   "execution_count": 30,
   "metadata": {},
   "outputs": [
    {
     "name": "stdout",
     "output_type": "stream",
     "text": [
      "<class 'pandas.core.frame.DataFrame'>\n",
      "Int64Index: 21424 entries, 1899 to 18380\n",
      "Data columns (total 3 columns):\n",
      " #   Column      Non-Null Count  Dtype         \n",
      "---  ------      --------------  -----         \n",
      " 0   cust_id     21424 non-null  object        \n",
      " 1   open_dt     21424 non-null  datetime64[ns]\n",
      " 2   contact_dt  21424 non-null  datetime64[ns]\n",
      "dtypes: datetime64[ns](2), object(1)\n",
      "memory usage: 669.5+ KB\n"
     ]
    }
   ],
   "source": [
    "card_open.info()"
   ]
  },
  {
   "cell_type": "code",
   "execution_count": 31,
   "metadata": {},
   "outputs": [
    {
     "name": "stdout",
     "output_type": "stream",
     "text": [
      "communication started:  2021-08-11 00:00:00\n",
      "communication ended:  2021-08-25 00:00:00\n"
     ]
    }
   ],
   "source": [
    "#when the communication started \n",
    "print('communication started: ', card_open['contact_dt'].min())\n",
    "print('communication ended: ', card_open['contact_dt'].max())"
   ]
  },
  {
   "cell_type": "code",
   "execution_count": 32,
   "metadata": {},
   "outputs": [
    {
     "data": {
      "image/png": "[encoded data removed]",
      "text/plain": [
       "<Figure size 1080x720 with 1 Axes>"
      ]
     },
     "metadata": {
      "needs_background": "light"
     },
     "output_type": "display_data"
    }
   ],
   "source": [
    "card_open.groupby('open_dt')['cust_id'].count().plot(figsize=(15,5), label='open')\n",
    "card_open.groupby('contact_dt')['cust_id'].count().plot(figsize=(15,10), label='contact')\n",
    "\n",
    "plt.legend()\n",
    "plt.show()"
   ]
  },
  {
   "cell_type": "code",
   "execution_count": 33,
   "metadata": {},
   "outputs": [],
   "source": [
    "visa_trans_np['transaction_dt'] = pd.to_datetime(visa_trans_np['transaction_dt'])\n",
    "visa_trans['transaction_dt'] = pd.to_datetime(visa_trans['transaction_dt'])"
   ]
  },
  {
   "cell_type": "code",
   "execution_count": 34,
   "metadata": {},
   "outputs": [
    {
     "data": {
      "text/html": [
       "<div>\n",
       "<style scoped>\n",
       "    .dataframe tbody tr th:only-of-type {\n",
       "        vertical-align: middle;\n",
       "    }\n",
       "\n",
       "    .dataframe tbody tr th {\n",
       "        vertical-align: top;\n",
       "    }\n",
       "\n",
       "    .dataframe thead th {\n",
       "        text-align: right;\n",
       "    }\n",
       "</style>\n",
       "<table border=\"1\" class=\"dataframe\">\n",
       "  <thead>\n",
       "    <tr style=\"text-align: right;\">\n",
       "      <th></th>\n",
       "      <th>channel_type</th>\n",
       "      <th>contact_dt</th>\n",
       "      <th>control_group_flg</th>\n",
       "      <th>sent</th>\n",
       "      <th>delivered</th>\n",
       "      <th>opened</th>\n",
       "      <th>clicked</th>\n",
       "      <th>blocked</th>\n",
       "      <th>cust_id</th>\n",
       "    </tr>\n",
       "  </thead>\n",
       "  <tbody>\n",
       "    <tr>\n",
       "      <th>0</th>\n",
       "      <td>Popup</td>\n",
       "      <td>2021-08-23</td>\n",
       "      <td>0</td>\n",
       "      <td>1</td>\n",
       "      <td>1</td>\n",
       "      <td>1</td>\n",
       "      <td>0</td>\n",
       "      <td>0</td>\n",
       "      <td>5d0a0cae173c27947838b9f3ad1282fa30771272747ede...</td>\n",
       "    </tr>\n",
       "    <tr>\n",
       "      <th>1</th>\n",
       "      <td>EMAIL</td>\n",
       "      <td>2021-08-12</td>\n",
       "      <td>0</td>\n",
       "      <td>1</td>\n",
       "      <td>1</td>\n",
       "      <td>0</td>\n",
       "      <td>0</td>\n",
       "      <td>0</td>\n",
       "      <td>b70d7c45f4d1724acdba89bead5941f13d93406bcbb1d7...</td>\n",
       "    </tr>\n",
       "    <tr>\n",
       "      <th>2</th>\n",
       "      <td>Popup</td>\n",
       "      <td>2021-08-11</td>\n",
       "      <td>0</td>\n",
       "      <td>1</td>\n",
       "      <td>1</td>\n",
       "      <td>1</td>\n",
       "      <td>0</td>\n",
       "      <td>0</td>\n",
       "      <td>1b3705d419798b8723884b643dc535ae7fc7623d6f4f7c...</td>\n",
       "    </tr>\n",
       "    <tr>\n",
       "      <th>3</th>\n",
       "      <td>PUSH</td>\n",
       "      <td>2021-08-12</td>\n",
       "      <td>0</td>\n",
       "      <td>0</td>\n",
       "      <td>0</td>\n",
       "      <td>0</td>\n",
       "      <td>0</td>\n",
       "      <td>0</td>\n",
       "      <td>0064bbbb2fd516698fd113adcabef8bb52824536512e8e...</td>\n",
       "    </tr>\n",
       "    <tr>\n",
       "      <th>4</th>\n",
       "      <td>PUSH</td>\n",
       "      <td>2021-08-12</td>\n",
       "      <td>0</td>\n",
       "      <td>0</td>\n",
       "      <td>0</td>\n",
       "      <td>0</td>\n",
       "      <td>0</td>\n",
       "      <td>0</td>\n",
       "      <td>3f0be853435987e9aff8cba237e8c19334708a996cf696...</td>\n",
       "    </tr>\n",
       "  </tbody>\n",
       "</table>\n",
       "</div>"
      ],
      "text/plain": [
       "  channel_type  contact_dt  control_group_flg  sent  delivered  opened  \\\n",
       "0        Popup  2021-08-23                  0     1          1       1   \n",
       "1        EMAIL  2021-08-12                  0     1          1       0   \n",
       "2        Popup  2021-08-11                  0     1          1       1   \n",
       "3         PUSH  2021-08-12                  0     0          0       0   \n",
       "4         PUSH  2021-08-12                  0     0          0       0   \n",
       "\n",
       "   clicked  blocked                                            cust_id  \n",
       "0        0        0  5d0a0cae173c27947838b9f3ad1282fa30771272747ede...  \n",
       "1        0        0  b70d7c45f4d1724acdba89bead5941f13d93406bcbb1d7...  \n",
       "2        0        0  1b3705d419798b8723884b643dc535ae7fc7623d6f4f7c...  \n",
       "3        0        0  0064bbbb2fd516698fd113adcabef8bb52824536512e8e...  \n",
       "4        0        0  3f0be853435987e9aff8cba237e8c19334708a996cf696...  "
      ]
     },
     "execution_count": 34,
     "metadata": {},
     "output_type": "execute_result"
    }
   ],
   "source": [
    "visa_com.head()"
   ]
  },
  {
   "cell_type": "markdown",
   "metadata": {},
   "source": [
    "In transactions we have some extreme maximum values. For example, we have a transaction with transaction sum = 8 490 000. Should we drop such a big values or should we analyze it as a part of compaign?"
   ]
  },
  {
   "cell_type": "code",
   "execution_count": 35,
   "metadata": {},
   "outputs": [
    {
     "data": {
      "image/png": "[encoded data removed]",
      "text/plain": [
       "<Figure size 1080x360 with 1 Axes>"
      ]
     },
     "metadata": {
      "needs_background": "light"
     },
     "output_type": "display_data"
    }
   ],
   "source": [
    "visa_trans.groupby('transaction_dt')['txn_sum'].sum().plot(figsize=(15,5), label='participants')\n",
    "visa_trans_np.groupby('transaction_dt')['txn_sum'].sum().plot(figsize=(15,5), label='non participants')\n",
    "plt.axvline('2021-08-11', color='black', ls='--', label='communication start')\n",
    "plt.axvline('2021-08-25', color='blue', ls=':', label='communication end')\n",
    "\n",
    "plt.title('Sum of transactions per date')\n",
    "plt.legend()\n",
    "plt.show()"
   ]
  },
  {
   "cell_type": "code",
   "execution_count": 36,
   "metadata": {},
   "outputs": [
    {
     "data": {
      "text/html": [
       "<div>\n",
       "<style scoped>\n",
       "    .dataframe tbody tr th:only-of-type {\n",
       "        vertical-align: middle;\n",
       "    }\n",
       "\n",
       "    .dataframe tbody tr th {\n",
       "        vertical-align: top;\n",
       "    }\n",
       "\n",
       "    .dataframe thead th {\n",
       "        text-align: right;\n",
       "    }\n",
       "</style>\n",
       "<table border=\"1\" class=\"dataframe\">\n",
       "  <thead>\n",
       "    <tr style=\"text-align: right;\">\n",
       "      <th></th>\n",
       "      <th>cust_id</th>\n",
       "      <th>mnth_gen</th>\n",
       "      <th>turnover</th>\n",
       "      <th>involve_cd</th>\n",
       "      <th>client_segment</th>\n",
       "      <th>gender</th>\n",
       "      <th>age_gr</th>\n",
       "    </tr>\n",
       "  </thead>\n",
       "  <tbody>\n",
       "    <tr>\n",
       "      <th>0</th>\n",
       "      <td>ad767176b86d500e5b8421315731388ff6c5ec93079ec9...</td>\n",
       "      <td>2021-06-01</td>\n",
       "      <td>17764.83</td>\n",
       "      <td>1</td>\n",
       "      <td>MASS</td>\n",
       "      <td>F</td>\n",
       "      <td>25-40</td>\n",
       "    </tr>\n",
       "    <tr>\n",
       "      <th>1</th>\n",
       "      <td>cc7c069e1866b0e14e6a733ecddaa9e503ebe5b422b796...</td>\n",
       "      <td>2021-06-01</td>\n",
       "      <td>18817.45</td>\n",
       "      <td>1</td>\n",
       "      <td>MASS</td>\n",
       "      <td>M</td>\n",
       "      <td>25-40</td>\n",
       "    </tr>\n",
       "    <tr>\n",
       "      <th>2</th>\n",
       "      <td>914c9e80623d8fdecb0fa39662089aa78c7c076182728f...</td>\n",
       "      <td>2021-01-01</td>\n",
       "      <td>19198.74</td>\n",
       "      <td>1</td>\n",
       "      <td>MVS LIGHT</td>\n",
       "      <td>F</td>\n",
       "      <td>25-40</td>\n",
       "    </tr>\n",
       "    <tr>\n",
       "      <th>3</th>\n",
       "      <td>e45e78863f239d3933462c1a06a9f23727033232851fb5...</td>\n",
       "      <td>2021-04-01</td>\n",
       "      <td>114637.54</td>\n",
       "      <td>1</td>\n",
       "      <td>MVS UPPER</td>\n",
       "      <td>F</td>\n",
       "      <td>40-60</td>\n",
       "    </tr>\n",
       "    <tr>\n",
       "      <th>4</th>\n",
       "      <td>2201a68b8c83f098aee50a5b787bb8344a90b2b9a64b83...</td>\n",
       "      <td>2021-07-01</td>\n",
       "      <td>112603.01</td>\n",
       "      <td>0</td>\n",
       "      <td>MVS LIGHT</td>\n",
       "      <td>F</td>\n",
       "      <td>25-40</td>\n",
       "    </tr>\n",
       "  </tbody>\n",
       "</table>\n",
       "</div>"
      ],
      "text/plain": [
       "                                             cust_id    mnth_gen   turnover  \\\n",
       "0  ad767176b86d500e5b8421315731388ff6c5ec93079ec9...  2021-06-01   17764.83   \n",
       "1  cc7c069e1866b0e14e6a733ecddaa9e503ebe5b422b796...  2021-06-01   18817.45   \n",
       "2  914c9e80623d8fdecb0fa39662089aa78c7c076182728f...  2021-01-01   19198.74   \n",
       "3  e45e78863f239d3933462c1a06a9f23727033232851fb5...  2021-04-01  114637.54   \n",
       "4  2201a68b8c83f098aee50a5b787bb8344a90b2b9a64b83...  2021-07-01  112603.01   \n",
       "\n",
       "   involve_cd client_segment gender age_gr  \n",
       "0           1           MASS      F  25-40  \n",
       "1           1           MASS      M  25-40  \n",
       "2           1      MVS LIGHT      F  25-40  \n",
       "3           1      MVS UPPER      F  40-60  \n",
       "4           0      MVS LIGHT      F  25-40  "
      ]
     },
     "execution_count": 36,
     "metadata": {},
     "output_type": "execute_result"
    }
   ],
   "source": [
    "features.head()"
   ]
  },
  {
   "cell_type": "markdown",
   "metadata": {},
   "source": [
    "## Communication compaign KPIs"
   ]
  },
  {
   "cell_type": "markdown",
   "metadata": {},
   "source": [
    "Let's calculate some main metrics for communication compaign based on visa_communications dataset"
   ]
  },
  {
   "cell_type": "code",
   "execution_count": 37,
   "metadata": {},
   "outputs": [
    {
     "name": "stdout",
     "output_type": "stream",
     "text": [
      "<class 'pandas.core.frame.DataFrame'>\n",
      "RangeIndex: 1456826 entries, 0 to 1456825\n",
      "Data columns (total 9 columns):\n",
      " #   Column             Non-Null Count    Dtype \n",
      "---  ------             --------------    ----- \n",
      " 0   channel_type       1456826 non-null  object\n",
      " 1   contact_dt         1456826 non-null  object\n",
      " 2   control_group_flg  1456826 non-null  int64 \n",
      " 3   sent               1456826 non-null  int64 \n",
      " 4   delivered          1456826 non-null  int64 \n",
      " 5   opened             1456826 non-null  int64 \n",
      " 6   clicked            1456826 non-null  int64 \n",
      " 7   blocked            1456826 non-null  int64 \n",
      " 8   cust_id            1456826 non-null  object\n",
      "dtypes: int64(6), object(3)\n",
      "memory usage: 100.0+ MB\n"
     ]
    }
   ],
   "source": [
    "visa_com.info()"
   ]
  },
  {
   "cell_type": "code",
   "execution_count": 38,
   "metadata": {},
   "outputs": [],
   "source": [
    "#divide customers from control group\n",
    "comm_comp = visa_com[visa_com['control_group_flg'] == 0]\n",
    "comm_comp_control_g = visa_com[visa_com['control_group_flg'] == 1]"
   ]
  },
  {
   "cell_type": "code",
   "execution_count": 39,
   "metadata": {},
   "outputs": [
    {
     "data": {
      "text/plain": [
       "(1354146, 9)"
      ]
     },
     "execution_count": 39,
     "metadata": {},
     "output_type": "execute_result"
    }
   ],
   "source": [
    "comm_comp.shape"
   ]
  },
  {
   "cell_type": "code",
   "execution_count": 40,
   "metadata": {},
   "outputs": [
    {
     "data": {
      "text/plain": [
       "(102680, 9)"
      ]
     },
     "execution_count": 40,
     "metadata": {},
     "output_type": "execute_result"
    }
   ],
   "source": [
    "comm_comp_control_g.shape"
   ]
  },
  {
   "cell_type": "code",
   "execution_count": null,
   "metadata": {},
   "outputs": [],
   "source": []
  },
  {
   "cell_type": "markdown",
   "metadata": {},
   "source": [
    "![title](open_rate.png)"
   ]
  },
  {
   "cell_type": "markdown",
   "metadata": {},
   "source": [
    "![title](click_rate.png)"
   ]
  },
  {
   "cell_type": "markdown",
   "metadata": {},
   "source": [
    "![title](click_to_open_rate.png)"
   ]
  },
  {
   "cell_type": "code",
   "execution_count": 41,
   "metadata": {},
   "outputs": [],
   "source": [
    "open_rate =         round(len(comm_comp[comm_comp['opened'] == 1]) / \n",
    "                    len(comm_comp[comm_comp['delivered'] == 1]) * 100, 2)\n",
    "\n",
    "click_rate =        round(len(comm_comp[comm_comp['clicked'] == 1]) / \n",
    "                    len(comm_comp[comm_comp['delivered'] == 1]) * 100, 2)\n",
    "\n",
    "click_to_open_rate =          round(len(comm_comp[comm_comp['clicked'] == 1]) / \n",
    "                              len(comm_comp[comm_comp['opened'] == 1]) * 100, 2)"
   ]
  },
  {
   "cell_type": "code",
   "execution_count": 42,
   "metadata": {},
   "outputs": [
    {
     "name": "stdout",
     "output_type": "stream",
     "text": [
      "Communication Compaign KPIs for all channels\n",
      "Open rate:  40.2 %\n",
      "Click rate:  3.09 %\n",
      "Click to open rate:  7.7 %\n"
     ]
    }
   ],
   "source": [
    "print('Communication Compaign KPIs for all channels for test group')\n",
    "print('Open rate: ', open_rate, '%')\n",
    "print('Click rate: ', click_rate, '%')\n",
    "print('Click to open rate: ', click_to_open_rate, '%')"
   ]
  },
  {
   "cell_type": "code",
   "execution_count": 43,
   "metadata": {},
   "outputs": [],
   "source": [
    "comm_comp_email = comm_comp[comm_comp['channel_type'] == 'EMAIL']\n",
    "comm_comp_push = comm_comp[comm_comp['channel_type'] == 'PUSH']\n",
    "comm_comp_popup = comm_comp[comm_comp['channel_type'] == 'Popup']"
   ]
  },
  {
   "cell_type": "code",
   "execution_count": 44,
   "metadata": {},
   "outputs": [],
   "source": [
    "open_rate_email =   round(len(comm_comp_email[comm_comp_email['opened'] == 1]) / \n",
    "                    len(comm_comp_email[comm_comp_email['delivered'] == 1]) * 100, 2)\n",
    "\n",
    "click_rate_email =  round(len(comm_comp_email[comm_comp_email['clicked'] == 1]) / \n",
    "                    len(comm_comp_email[comm_comp_email['delivered'] == 1]) * 100, 2)\n",
    "\n",
    "click_to_open_rate_email =    round(len(comm_comp_email[comm_comp_email['clicked'] == 1]) / \n",
    "                              len(comm_comp_email[comm_comp_email['opened'] == 1]) * 100, 2)"
   ]
  },
  {
   "cell_type": "code",
   "execution_count": 45,
   "metadata": {},
   "outputs": [
    {
     "name": "stdout",
     "output_type": "stream",
     "text": [
      "Communication Compaign KPIs for email channel\n",
      "Open rate:  10.24 %\n",
      "Click rate:  0.6 %\n",
      "Click to open rate:  5.9 %\n"
     ]
    }
   ],
   "source": [
    "print('Communication Compaign KPIs for email channel for test group')\n",
    "print('Open rate: ', open_rate_email, '%')\n",
    "print('Click rate: ', click_rate_email, '%')\n",
    "print('Click to open rate: ', click_to_open_rate_email, '%')"
   ]
  },
  {
   "cell_type": "code",
   "execution_count": 46,
   "metadata": {},
   "outputs": [
    {
     "ename": "ZeroDivisionError",
     "evalue": "division by zero",
     "output_type": "error",
     "traceback": [
      "\u001b[1;31m---------------------------------------------------------------------------\u001b[0m",
      "\u001b[1;31mZeroDivisionError\u001b[0m                         Traceback (most recent call last)",
      "\u001b[1;32md:\\BA and Big Data 2nd grade\\Marketing analysis\\HW 2 Group Digital Compaign\\hw.ipynb Ячейка 56\u001b[0m in \u001b[0;36m<cell line: 1>\u001b[1;34m()\u001b[0m\n\u001b[1;32m----> <a href='vscode-notebook-cell:/d%3A/BA%20and%20Big%20Data%202nd%20grade/Marketing%20analysis/HW%202%20Group%20Digital%20Compaign/hw.ipynb#Y110sZmlsZQ%3D%3D?line=0'>1</a>\u001b[0m open_rate_push \u001b[39m=\u001b[39m   \u001b[39mround\u001b[39m(\u001b[39mlen\u001b[39;49m(comm_comp_push[comm_comp_push[\u001b[39m'\u001b[39;49m\u001b[39mopened\u001b[39;49m\u001b[39m'\u001b[39;49m] \u001b[39m==\u001b[39;49m \u001b[39m1\u001b[39;49m]) \u001b[39m/\u001b[39;49m \n\u001b[0;32m      <a href='vscode-notebook-cell:/d%3A/BA%20and%20Big%20Data%202nd%20grade/Marketing%20analysis/HW%202%20Group%20Digital%20Compaign/hw.ipynb#Y110sZmlsZQ%3D%3D?line=1'>2</a>\u001b[0m                     \u001b[39mlen\u001b[39;49m(comm_comp_push[comm_comp_push[\u001b[39m'\u001b[39;49m\u001b[39mdelivered\u001b[39;49m\u001b[39m'\u001b[39;49m] \u001b[39m==\u001b[39;49m \u001b[39m1\u001b[39;49m]) \u001b[39m*\u001b[39m \u001b[39m100\u001b[39m, \u001b[39m2\u001b[39m)\n\u001b[0;32m      <a href='vscode-notebook-cell:/d%3A/BA%20and%20Big%20Data%202nd%20grade/Marketing%20analysis/HW%202%20Group%20Digital%20Compaign/hw.ipynb#Y110sZmlsZQ%3D%3D?line=3'>4</a>\u001b[0m click_rate_push \u001b[39m=\u001b[39m  \u001b[39mround\u001b[39m(\u001b[39mlen\u001b[39m(comm_comp_push[comm_comp_push[\u001b[39m'\u001b[39m\u001b[39mclicked\u001b[39m\u001b[39m'\u001b[39m] \u001b[39m==\u001b[39m \u001b[39m1\u001b[39m]) \u001b[39m/\u001b[39m \n\u001b[0;32m      <a href='vscode-notebook-cell:/d%3A/BA%20and%20Big%20Data%202nd%20grade/Marketing%20analysis/HW%202%20Group%20Digital%20Compaign/hw.ipynb#Y110sZmlsZQ%3D%3D?line=4'>5</a>\u001b[0m                     \u001b[39mlen\u001b[39m(comm_comp_push[comm_comp_push[\u001b[39m'\u001b[39m\u001b[39mdelivered\u001b[39m\u001b[39m'\u001b[39m] \u001b[39m==\u001b[39m \u001b[39m1\u001b[39m]) \u001b[39m*\u001b[39m \u001b[39m100\u001b[39m, \u001b[39m2\u001b[39m)\n\u001b[0;32m      <a href='vscode-notebook-cell:/d%3A/BA%20and%20Big%20Data%202nd%20grade/Marketing%20analysis/HW%202%20Group%20Digital%20Compaign/hw.ipynb#Y110sZmlsZQ%3D%3D?line=6'>7</a>\u001b[0m click_to_open_rate_push \u001b[39m=\u001b[39m    \u001b[39mround\u001b[39m(\u001b[39mlen\u001b[39m(comm_comp_push[comm_comp_push[\u001b[39m'\u001b[39m\u001b[39mclicked\u001b[39m\u001b[39m'\u001b[39m] \u001b[39m==\u001b[39m \u001b[39m1\u001b[39m]) \u001b[39m/\u001b[39m \n\u001b[0;32m      <a href='vscode-notebook-cell:/d%3A/BA%20and%20Big%20Data%202nd%20grade/Marketing%20analysis/HW%202%20Group%20Digital%20Compaign/hw.ipynb#Y110sZmlsZQ%3D%3D?line=7'>8</a>\u001b[0m                               \u001b[39mlen\u001b[39m(comm_comp_push[comm_comp_push[\u001b[39m'\u001b[39m\u001b[39mopened\u001b[39m\u001b[39m'\u001b[39m] \u001b[39m==\u001b[39m \u001b[39m1\u001b[39m]) \u001b[39m*\u001b[39m \u001b[39m100\u001b[39m, \u001b[39m2\u001b[39m)\n",
      "\u001b[1;31mZeroDivisionError\u001b[0m: division by zero"
     ]
    }
   ],
   "source": [
    "open_rate_push =   round(len(comm_comp_push[comm_comp_push['opened'] == 1]) / \n",
    "                    len(comm_comp_push[comm_comp_push['delivered'] == 1]) * 100, 2)\n",
    "\n",
    "click_rate_push =  round(len(comm_comp_push[comm_comp_push['clicked'] == 1]) / \n",
    "                    len(comm_comp_push[comm_comp_push['delivered'] == 1]) * 100, 2)\n",
    "\n",
    "click_to_open_rate_push =    round(len(comm_comp_push[comm_comp_push['clicked'] == 1]) / \n",
    "                              len(comm_comp_push[comm_comp_push['opened'] == 1]) * 100, 2)"
   ]
  },
  {
   "cell_type": "code",
   "execution_count": null,
   "metadata": {},
   "outputs": [
    {
     "data": {
      "text/html": [
       "<div>\n",
       "<style scoped>\n",
       "    .dataframe tbody tr th:only-of-type {\n",
       "        vertical-align: middle;\n",
       "    }\n",
       "\n",
       "    .dataframe tbody tr th {\n",
       "        vertical-align: top;\n",
       "    }\n",
       "\n",
       "    .dataframe thead th {\n",
       "        text-align: right;\n",
       "    }\n",
       "</style>\n",
       "<table border=\"1\" class=\"dataframe\">\n",
       "  <thead>\n",
       "    <tr style=\"text-align: right;\">\n",
       "      <th></th>\n",
       "      <th>control_group_flg</th>\n",
       "      <th>sent</th>\n",
       "      <th>delivered</th>\n",
       "      <th>opened</th>\n",
       "      <th>clicked</th>\n",
       "      <th>blocked</th>\n",
       "    </tr>\n",
       "  </thead>\n",
       "  <tbody>\n",
       "    <tr>\n",
       "      <th>count</th>\n",
       "      <td>400048.0</td>\n",
       "      <td>400048.0</td>\n",
       "      <td>400048.0</td>\n",
       "      <td>400048.0</td>\n",
       "      <td>400048.0</td>\n",
       "      <td>400048.0</td>\n",
       "    </tr>\n",
       "    <tr>\n",
       "      <th>mean</th>\n",
       "      <td>0.0</td>\n",
       "      <td>0.0</td>\n",
       "      <td>0.0</td>\n",
       "      <td>0.0</td>\n",
       "      <td>0.0</td>\n",
       "      <td>0.0</td>\n",
       "    </tr>\n",
       "    <tr>\n",
       "      <th>std</th>\n",
       "      <td>0.0</td>\n",
       "      <td>0.0</td>\n",
       "      <td>0.0</td>\n",
       "      <td>0.0</td>\n",
       "      <td>0.0</td>\n",
       "      <td>0.0</td>\n",
       "    </tr>\n",
       "    <tr>\n",
       "      <th>min</th>\n",
       "      <td>0.0</td>\n",
       "      <td>0.0</td>\n",
       "      <td>0.0</td>\n",
       "      <td>0.0</td>\n",
       "      <td>0.0</td>\n",
       "      <td>0.0</td>\n",
       "    </tr>\n",
       "    <tr>\n",
       "      <th>25%</th>\n",
       "      <td>0.0</td>\n",
       "      <td>0.0</td>\n",
       "      <td>0.0</td>\n",
       "      <td>0.0</td>\n",
       "      <td>0.0</td>\n",
       "      <td>0.0</td>\n",
       "    </tr>\n",
       "    <tr>\n",
       "      <th>50%</th>\n",
       "      <td>0.0</td>\n",
       "      <td>0.0</td>\n",
       "      <td>0.0</td>\n",
       "      <td>0.0</td>\n",
       "      <td>0.0</td>\n",
       "      <td>0.0</td>\n",
       "    </tr>\n",
       "    <tr>\n",
       "      <th>75%</th>\n",
       "      <td>0.0</td>\n",
       "      <td>0.0</td>\n",
       "      <td>0.0</td>\n",
       "      <td>0.0</td>\n",
       "      <td>0.0</td>\n",
       "      <td>0.0</td>\n",
       "    </tr>\n",
       "    <tr>\n",
       "      <th>max</th>\n",
       "      <td>0.0</td>\n",
       "      <td>0.0</td>\n",
       "      <td>0.0</td>\n",
       "      <td>0.0</td>\n",
       "      <td>0.0</td>\n",
       "      <td>0.0</td>\n",
       "    </tr>\n",
       "  </tbody>\n",
       "</table>\n",
       "</div>"
      ],
      "text/plain": [
       "       control_group_flg      sent  delivered    opened   clicked   blocked\n",
       "count           400048.0  400048.0   400048.0  400048.0  400048.0  400048.0\n",
       "mean                 0.0       0.0        0.0       0.0       0.0       0.0\n",
       "std                  0.0       0.0        0.0       0.0       0.0       0.0\n",
       "min                  0.0       0.0        0.0       0.0       0.0       0.0\n",
       "25%                  0.0       0.0        0.0       0.0       0.0       0.0\n",
       "50%                  0.0       0.0        0.0       0.0       0.0       0.0\n",
       "75%                  0.0       0.0        0.0       0.0       0.0       0.0\n",
       "max                  0.0       0.0        0.0       0.0       0.0       0.0"
      ]
     },
     "execution_count": 68,
     "metadata": {},
     "output_type": "execute_result"
    }
   ],
   "source": [
    "comm_comp_push.describe()"
   ]
  },
  {
   "cell_type": "markdown",
   "metadata": {},
   "source": [
    "It means, that we didn't use a push during compaing"
   ]
  },
  {
   "cell_type": "code",
   "execution_count": null,
   "metadata": {},
   "outputs": [
    {
     "data": {
      "text/html": [
       "<div>\n",
       "<style scoped>\n",
       "    .dataframe tbody tr th:only-of-type {\n",
       "        vertical-align: middle;\n",
       "    }\n",
       "\n",
       "    .dataframe tbody tr th {\n",
       "        vertical-align: top;\n",
       "    }\n",
       "\n",
       "    .dataframe thead th {\n",
       "        text-align: right;\n",
       "    }\n",
       "</style>\n",
       "<table border=\"1\" class=\"dataframe\">\n",
       "  <thead>\n",
       "    <tr style=\"text-align: right;\">\n",
       "      <th></th>\n",
       "      <th>control_group_flg</th>\n",
       "      <th>sent</th>\n",
       "      <th>delivered</th>\n",
       "      <th>opened</th>\n",
       "      <th>clicked</th>\n",
       "      <th>blocked</th>\n",
       "    </tr>\n",
       "  </thead>\n",
       "  <tbody>\n",
       "    <tr>\n",
       "      <th>count</th>\n",
       "      <td>429877.0</td>\n",
       "      <td>429877.000000</td>\n",
       "      <td>429877.000000</td>\n",
       "      <td>429877.000000</td>\n",
       "      <td>429877.000000</td>\n",
       "      <td>429877.0</td>\n",
       "    </tr>\n",
       "    <tr>\n",
       "      <th>mean</th>\n",
       "      <td>0.0</td>\n",
       "      <td>0.690528</td>\n",
       "      <td>0.614997</td>\n",
       "      <td>0.612638</td>\n",
       "      <td>0.049391</td>\n",
       "      <td>0.0</td>\n",
       "    </tr>\n",
       "    <tr>\n",
       "      <th>std</th>\n",
       "      <td>0.0</td>\n",
       "      <td>0.462277</td>\n",
       "      <td>0.486597</td>\n",
       "      <td>0.487148</td>\n",
       "      <td>0.216683</td>\n",
       "      <td>0.0</td>\n",
       "    </tr>\n",
       "    <tr>\n",
       "      <th>min</th>\n",
       "      <td>0.0</td>\n",
       "      <td>0.000000</td>\n",
       "      <td>0.000000</td>\n",
       "      <td>0.000000</td>\n",
       "      <td>0.000000</td>\n",
       "      <td>0.0</td>\n",
       "    </tr>\n",
       "    <tr>\n",
       "      <th>25%</th>\n",
       "      <td>0.0</td>\n",
       "      <td>0.000000</td>\n",
       "      <td>0.000000</td>\n",
       "      <td>0.000000</td>\n",
       "      <td>0.000000</td>\n",
       "      <td>0.0</td>\n",
       "    </tr>\n",
       "    <tr>\n",
       "      <th>50%</th>\n",
       "      <td>0.0</td>\n",
       "      <td>1.000000</td>\n",
       "      <td>1.000000</td>\n",
       "      <td>1.000000</td>\n",
       "      <td>0.000000</td>\n",
       "      <td>0.0</td>\n",
       "    </tr>\n",
       "    <tr>\n",
       "      <th>75%</th>\n",
       "      <td>0.0</td>\n",
       "      <td>1.000000</td>\n",
       "      <td>1.000000</td>\n",
       "      <td>1.000000</td>\n",
       "      <td>0.000000</td>\n",
       "      <td>0.0</td>\n",
       "    </tr>\n",
       "    <tr>\n",
       "      <th>max</th>\n",
       "      <td>0.0</td>\n",
       "      <td>1.000000</td>\n",
       "      <td>1.000000</td>\n",
       "      <td>1.000000</td>\n",
       "      <td>1.000000</td>\n",
       "      <td>0.0</td>\n",
       "    </tr>\n",
       "  </tbody>\n",
       "</table>\n",
       "</div>"
      ],
      "text/plain": [
       "       control_group_flg           sent      delivered         opened  \\\n",
       "count           429877.0  429877.000000  429877.000000  429877.000000   \n",
       "mean                 0.0       0.690528       0.614997       0.612638   \n",
       "std                  0.0       0.462277       0.486597       0.487148   \n",
       "min                  0.0       0.000000       0.000000       0.000000   \n",
       "25%                  0.0       0.000000       0.000000       0.000000   \n",
       "50%                  0.0       1.000000       1.000000       1.000000   \n",
       "75%                  0.0       1.000000       1.000000       1.000000   \n",
       "max                  0.0       1.000000       1.000000       1.000000   \n",
       "\n",
       "             clicked   blocked  \n",
       "count  429877.000000  429877.0  \n",
       "mean        0.049391       0.0  \n",
       "std         0.216683       0.0  \n",
       "min         0.000000       0.0  \n",
       "25%         0.000000       0.0  \n",
       "50%         0.000000       0.0  \n",
       "75%         0.000000       0.0  \n",
       "max         1.000000       0.0  "
      ]
     },
     "execution_count": 69,
     "metadata": {},
     "output_type": "execute_result"
    }
   ],
   "source": [
    "comm_comp_popup.describe()"
   ]
  },
  {
   "cell_type": "code",
   "execution_count": null,
   "metadata": {},
   "outputs": [],
   "source": [
    "open_rate_popup =   round(len(comm_comp_popup[comm_comp_popup['opened'] == 1]) / \n",
    "                    len(comm_comp_popup[comm_comp_popup['delivered'] == 1]) * 100, 2)\n",
    "\n",
    "click_rate_popup =  round(len(comm_comp_popup[comm_comp_popup['clicked'] == 1]) / \n",
    "                    len(comm_comp_popup[comm_comp_popup['delivered'] == 1]) * 100, 2)\n",
    "\n",
    "click_to_open_rate_popup =    round(len(comm_comp_popup[comm_comp_popup['clicked'] == 1]) / \n",
    "                              len(comm_comp_popup[comm_comp_popup['opened'] == 1]) * 100, 2)"
   ]
  },
  {
   "cell_type": "code",
   "execution_count": null,
   "metadata": {},
   "outputs": [
    {
     "name": "stdout",
     "output_type": "stream",
     "text": [
      "Communication Compaign KPIs for popup channel\n",
      "Open rate:  99.62 %\n",
      "Click rate:  8.03 %\n",
      "Click to open rate:  8.06 %\n"
     ]
    }
   ],
   "source": [
    "print('Communication Compaign KPIs for popup channel for test group')\n",
    "print('Open rate: ', open_rate_popup, '%')\n",
    "print('Click rate: ', click_rate_popup, '%')\n",
    "print('Click to open rate: ', click_to_open_rate_popup, '%')"
   ]
  },
  {
   "cell_type": "markdown",
   "metadata": {},
   "source": [
    "To calculate conversion rate we need to define who opened card "
   ]
  },
  {
   "cell_type": "code",
   "execution_count": null,
   "metadata": {},
   "outputs": [],
   "source": [
    "df_conv_rate = pd.merge(comm_comp, card_open, how='left', on='cust_id')"
   ]
  },
  {
   "cell_type": "code",
   "execution_count": null,
   "metadata": {},
   "outputs": [
    {
     "data": {
      "text/html": [
       "<div>\n",
       "<style scoped>\n",
       "    .dataframe tbody tr th:only-of-type {\n",
       "        vertical-align: middle;\n",
       "    }\n",
       "\n",
       "    .dataframe tbody tr th {\n",
       "        vertical-align: top;\n",
       "    }\n",
       "\n",
       "    .dataframe thead th {\n",
       "        text-align: right;\n",
       "    }\n",
       "</style>\n",
       "<table border=\"1\" class=\"dataframe\">\n",
       "  <thead>\n",
       "    <tr style=\"text-align: right;\">\n",
       "      <th></th>\n",
       "      <th>channel_type</th>\n",
       "      <th>contact_dt_x</th>\n",
       "      <th>control_group_flg</th>\n",
       "      <th>sent</th>\n",
       "      <th>delivered</th>\n",
       "      <th>opened</th>\n",
       "      <th>clicked</th>\n",
       "      <th>blocked</th>\n",
       "      <th>cust_id</th>\n",
       "      <th>open_dt</th>\n",
       "      <th>contact_dt_y</th>\n",
       "    </tr>\n",
       "  </thead>\n",
       "  <tbody>\n",
       "    <tr>\n",
       "      <th>0</th>\n",
       "      <td>Popup</td>\n",
       "      <td>2021-08-23</td>\n",
       "      <td>0</td>\n",
       "      <td>1</td>\n",
       "      <td>1</td>\n",
       "      <td>1</td>\n",
       "      <td>0</td>\n",
       "      <td>0</td>\n",
       "      <td>5d0a0cae173c27947838b9f3ad1282fa30771272747ede...</td>\n",
       "      <td>NaT</td>\n",
       "      <td>NaT</td>\n",
       "    </tr>\n",
       "    <tr>\n",
       "      <th>1</th>\n",
       "      <td>EMAIL</td>\n",
       "      <td>2021-08-12</td>\n",
       "      <td>0</td>\n",
       "      <td>1</td>\n",
       "      <td>1</td>\n",
       "      <td>0</td>\n",
       "      <td>0</td>\n",
       "      <td>0</td>\n",
       "      <td>b70d7c45f4d1724acdba89bead5941f13d93406bcbb1d7...</td>\n",
       "      <td>NaT</td>\n",
       "      <td>NaT</td>\n",
       "    </tr>\n",
       "    <tr>\n",
       "      <th>2</th>\n",
       "      <td>Popup</td>\n",
       "      <td>2021-08-11</td>\n",
       "      <td>0</td>\n",
       "      <td>1</td>\n",
       "      <td>1</td>\n",
       "      <td>1</td>\n",
       "      <td>0</td>\n",
       "      <td>0</td>\n",
       "      <td>1b3705d419798b8723884b643dc535ae7fc7623d6f4f7c...</td>\n",
       "      <td>NaT</td>\n",
       "      <td>NaT</td>\n",
       "    </tr>\n",
       "    <tr>\n",
       "      <th>3</th>\n",
       "      <td>PUSH</td>\n",
       "      <td>2021-08-12</td>\n",
       "      <td>0</td>\n",
       "      <td>0</td>\n",
       "      <td>0</td>\n",
       "      <td>0</td>\n",
       "      <td>0</td>\n",
       "      <td>0</td>\n",
       "      <td>0064bbbb2fd516698fd113adcabef8bb52824536512e8e...</td>\n",
       "      <td>NaT</td>\n",
       "      <td>NaT</td>\n",
       "    </tr>\n",
       "    <tr>\n",
       "      <th>4</th>\n",
       "      <td>PUSH</td>\n",
       "      <td>2021-08-12</td>\n",
       "      <td>0</td>\n",
       "      <td>0</td>\n",
       "      <td>0</td>\n",
       "      <td>0</td>\n",
       "      <td>0</td>\n",
       "      <td>0</td>\n",
       "      <td>3f0be853435987e9aff8cba237e8c19334708a996cf696...</td>\n",
       "      <td>NaT</td>\n",
       "      <td>NaT</td>\n",
       "    </tr>\n",
       "    <tr>\n",
       "      <th>...</th>\n",
       "      <td>...</td>\n",
       "      <td>...</td>\n",
       "      <td>...</td>\n",
       "      <td>...</td>\n",
       "      <td>...</td>\n",
       "      <td>...</td>\n",
       "      <td>...</td>\n",
       "      <td>...</td>\n",
       "      <td>...</td>\n",
       "      <td>...</td>\n",
       "      <td>...</td>\n",
       "    </tr>\n",
       "    <tr>\n",
       "      <th>1354141</th>\n",
       "      <td>PUSH</td>\n",
       "      <td>2021-08-12</td>\n",
       "      <td>0</td>\n",
       "      <td>0</td>\n",
       "      <td>0</td>\n",
       "      <td>0</td>\n",
       "      <td>0</td>\n",
       "      <td>0</td>\n",
       "      <td>890d5f6f1d72e8d607fe8bdac1356af25456f026d9e038...</td>\n",
       "      <td>NaT</td>\n",
       "      <td>NaT</td>\n",
       "    </tr>\n",
       "    <tr>\n",
       "      <th>1354142</th>\n",
       "      <td>PUSH</td>\n",
       "      <td>2021-08-12</td>\n",
       "      <td>0</td>\n",
       "      <td>0</td>\n",
       "      <td>0</td>\n",
       "      <td>0</td>\n",
       "      <td>0</td>\n",
       "      <td>0</td>\n",
       "      <td>d45b5062347f295358a2cfd3d78d840913281ea241eb31...</td>\n",
       "      <td>NaT</td>\n",
       "      <td>NaT</td>\n",
       "    </tr>\n",
       "    <tr>\n",
       "      <th>1354143</th>\n",
       "      <td>EMAIL</td>\n",
       "      <td>2021-08-12</td>\n",
       "      <td>0</td>\n",
       "      <td>1</td>\n",
       "      <td>1</td>\n",
       "      <td>0</td>\n",
       "      <td>0</td>\n",
       "      <td>0</td>\n",
       "      <td>63ed0633bd56b27882c71796ab9a9e804a44655a6668ba...</td>\n",
       "      <td>NaT</td>\n",
       "      <td>NaT</td>\n",
       "    </tr>\n",
       "    <tr>\n",
       "      <th>1354144</th>\n",
       "      <td>Popup</td>\n",
       "      <td>2021-08-17</td>\n",
       "      <td>0</td>\n",
       "      <td>1</td>\n",
       "      <td>1</td>\n",
       "      <td>1</td>\n",
       "      <td>0</td>\n",
       "      <td>0</td>\n",
       "      <td>9ed87250aee6af8b4869972a7ce7a9546b3b23dea0eae9...</td>\n",
       "      <td>NaT</td>\n",
       "      <td>NaT</td>\n",
       "    </tr>\n",
       "    <tr>\n",
       "      <th>1354145</th>\n",
       "      <td>EMAIL</td>\n",
       "      <td>2021-08-13</td>\n",
       "      <td>0</td>\n",
       "      <td>1</td>\n",
       "      <td>1</td>\n",
       "      <td>0</td>\n",
       "      <td>0</td>\n",
       "      <td>0</td>\n",
       "      <td>a64a154b6f22227e850fb99a93db748fde45f59ff087fe...</td>\n",
       "      <td>NaT</td>\n",
       "      <td>NaT</td>\n",
       "    </tr>\n",
       "  </tbody>\n",
       "</table>\n",
       "<p>1354146 rows × 11 columns</p>\n",
       "</div>"
      ],
      "text/plain": [
       "        channel_type contact_dt_x  control_group_flg  sent  delivered  opened  \\\n",
       "0              Popup   2021-08-23                  0     1          1       1   \n",
       "1              EMAIL   2021-08-12                  0     1          1       0   \n",
       "2              Popup   2021-08-11                  0     1          1       1   \n",
       "3               PUSH   2021-08-12                  0     0          0       0   \n",
       "4               PUSH   2021-08-12                  0     0          0       0   \n",
       "...              ...          ...                ...   ...        ...     ...   \n",
       "1354141         PUSH   2021-08-12                  0     0          0       0   \n",
       "1354142         PUSH   2021-08-12                  0     0          0       0   \n",
       "1354143        EMAIL   2021-08-12                  0     1          1       0   \n",
       "1354144        Popup   2021-08-17                  0     1          1       1   \n",
       "1354145        EMAIL   2021-08-13                  0     1          1       0   \n",
       "\n",
       "         clicked  blocked                                            cust_id  \\\n",
       "0              0        0  5d0a0cae173c27947838b9f3ad1282fa30771272747ede...   \n",
       "1              0        0  b70d7c45f4d1724acdba89bead5941f13d93406bcbb1d7...   \n",
       "2              0        0  1b3705d419798b8723884b643dc535ae7fc7623d6f4f7c...   \n",
       "3              0        0  0064bbbb2fd516698fd113adcabef8bb52824536512e8e...   \n",
       "4              0        0  3f0be853435987e9aff8cba237e8c19334708a996cf696...   \n",
       "...          ...      ...                                                ...   \n",
       "1354141        0        0  890d5f6f1d72e8d607fe8bdac1356af25456f026d9e038...   \n",
       "1354142        0        0  d45b5062347f295358a2cfd3d78d840913281ea241eb31...   \n",
       "1354143        0        0  63ed0633bd56b27882c71796ab9a9e804a44655a6668ba...   \n",
       "1354144        0        0  9ed87250aee6af8b4869972a7ce7a9546b3b23dea0eae9...   \n",
       "1354145        0        0  a64a154b6f22227e850fb99a93db748fde45f59ff087fe...   \n",
       "\n",
       "        open_dt contact_dt_y  \n",
       "0           NaT          NaT  \n",
       "1           NaT          NaT  \n",
       "2           NaT          NaT  \n",
       "3           NaT          NaT  \n",
       "4           NaT          NaT  \n",
       "...         ...          ...  \n",
       "1354141     NaT          NaT  \n",
       "1354142     NaT          NaT  \n",
       "1354143     NaT          NaT  \n",
       "1354144     NaT          NaT  \n",
       "1354145     NaT          NaT  \n",
       "\n",
       "[1354146 rows x 11 columns]"
      ]
     },
     "execution_count": 73,
     "metadata": {},
     "output_type": "execute_result"
    }
   ],
   "source": [
    "df_conv_rate"
   ]
  },
  {
   "cell_type": "code",
   "execution_count": null,
   "metadata": {},
   "outputs": [
    {
     "data": {
      "text/html": [
       "<div>\n",
       "<style scoped>\n",
       "    .dataframe tbody tr th:only-of-type {\n",
       "        vertical-align: middle;\n",
       "    }\n",
       "\n",
       "    .dataframe tbody tr th {\n",
       "        vertical-align: top;\n",
       "    }\n",
       "\n",
       "    .dataframe thead th {\n",
       "        text-align: right;\n",
       "    }\n",
       "</style>\n",
       "<table border=\"1\" class=\"dataframe\">\n",
       "  <thead>\n",
       "    <tr style=\"text-align: right;\">\n",
       "      <th></th>\n",
       "      <th>channel_type</th>\n",
       "      <th>contact_dt_x</th>\n",
       "      <th>control_group_flg</th>\n",
       "      <th>sent</th>\n",
       "      <th>delivered</th>\n",
       "      <th>opened</th>\n",
       "      <th>clicked</th>\n",
       "      <th>blocked</th>\n",
       "      <th>cust_id</th>\n",
       "      <th>open_dt</th>\n",
       "      <th>contact_dt_y</th>\n",
       "    </tr>\n",
       "  </thead>\n",
       "  <tbody>\n",
       "    <tr>\n",
       "      <th>25</th>\n",
       "      <td>PUSH</td>\n",
       "      <td>2021-08-12</td>\n",
       "      <td>0</td>\n",
       "      <td>0</td>\n",
       "      <td>0</td>\n",
       "      <td>0</td>\n",
       "      <td>0</td>\n",
       "      <td>0</td>\n",
       "      <td>2823d67a9a2e42452650561815434999b9e059f9b8d84b...</td>\n",
       "      <td>2021-08-12</td>\n",
       "      <td>2021-08-12</td>\n",
       "    </tr>\n",
       "    <tr>\n",
       "      <th>74</th>\n",
       "      <td>PUSH</td>\n",
       "      <td>2021-08-12</td>\n",
       "      <td>0</td>\n",
       "      <td>0</td>\n",
       "      <td>0</td>\n",
       "      <td>0</td>\n",
       "      <td>0</td>\n",
       "      <td>0</td>\n",
       "      <td>4790e99c042e386a3fe2866df0f59f260db5e1718a8eee...</td>\n",
       "      <td>2021-08-18</td>\n",
       "      <td>2021-08-12</td>\n",
       "    </tr>\n",
       "    <tr>\n",
       "      <th>250</th>\n",
       "      <td>EMAIL</td>\n",
       "      <td>2021-08-12</td>\n",
       "      <td>0</td>\n",
       "      <td>1</td>\n",
       "      <td>1</td>\n",
       "      <td>1</td>\n",
       "      <td>0</td>\n",
       "      <td>0</td>\n",
       "      <td>f1b6e14260e2f73275e0a32c06233cf9cde14c662701b4...</td>\n",
       "      <td>2021-08-20</td>\n",
       "      <td>2021-08-12</td>\n",
       "    </tr>\n",
       "    <tr>\n",
       "      <th>277</th>\n",
       "      <td>EMAIL</td>\n",
       "      <td>2021-08-13</td>\n",
       "      <td>0</td>\n",
       "      <td>1</td>\n",
       "      <td>1</td>\n",
       "      <td>0</td>\n",
       "      <td>0</td>\n",
       "      <td>0</td>\n",
       "      <td>3bf6dc99ff2f2947a6d9a6ee384f5136802046fddad177...</td>\n",
       "      <td>2021-08-20</td>\n",
       "      <td>2021-08-13</td>\n",
       "    </tr>\n",
       "    <tr>\n",
       "      <th>372</th>\n",
       "      <td>EMAIL</td>\n",
       "      <td>2021-08-13</td>\n",
       "      <td>0</td>\n",
       "      <td>1</td>\n",
       "      <td>1</td>\n",
       "      <td>0</td>\n",
       "      <td>0</td>\n",
       "      <td>0</td>\n",
       "      <td>eee85b9c2bd86c1e5135a13d6da2c92c63792988019d2f...</td>\n",
       "      <td>2021-08-27</td>\n",
       "      <td>2021-08-13</td>\n",
       "    </tr>\n",
       "    <tr>\n",
       "      <th>...</th>\n",
       "      <td>...</td>\n",
       "      <td>...</td>\n",
       "      <td>...</td>\n",
       "      <td>...</td>\n",
       "      <td>...</td>\n",
       "      <td>...</td>\n",
       "      <td>...</td>\n",
       "      <td>...</td>\n",
       "      <td>...</td>\n",
       "      <td>...</td>\n",
       "      <td>...</td>\n",
       "    </tr>\n",
       "    <tr>\n",
       "      <th>1353740</th>\n",
       "      <td>EMAIL</td>\n",
       "      <td>2021-08-12</td>\n",
       "      <td>0</td>\n",
       "      <td>1</td>\n",
       "      <td>1</td>\n",
       "      <td>0</td>\n",
       "      <td>0</td>\n",
       "      <td>0</td>\n",
       "      <td>77d9e39b32c954a7c4156a067f057a94e223a33fb0506b...</td>\n",
       "      <td>2021-08-13</td>\n",
       "      <td>2021-08-12</td>\n",
       "    </tr>\n",
       "    <tr>\n",
       "      <th>1353802</th>\n",
       "      <td>EMAIL</td>\n",
       "      <td>2021-08-12</td>\n",
       "      <td>0</td>\n",
       "      <td>1</td>\n",
       "      <td>1</td>\n",
       "      <td>0</td>\n",
       "      <td>0</td>\n",
       "      <td>0</td>\n",
       "      <td>199b60807bae694584ae75eda5f51db554c71689f2fe0e...</td>\n",
       "      <td>2021-08-25</td>\n",
       "      <td>2021-08-12</td>\n",
       "    </tr>\n",
       "    <tr>\n",
       "      <th>1353816</th>\n",
       "      <td>PUSH</td>\n",
       "      <td>2021-08-12</td>\n",
       "      <td>0</td>\n",
       "      <td>0</td>\n",
       "      <td>0</td>\n",
       "      <td>0</td>\n",
       "      <td>0</td>\n",
       "      <td>0</td>\n",
       "      <td>893802f26670a8b67391a1a62973beec4521ed03644041...</td>\n",
       "      <td>2021-08-26</td>\n",
       "      <td>2021-08-12</td>\n",
       "    </tr>\n",
       "    <tr>\n",
       "      <th>1353917</th>\n",
       "      <td>PUSH</td>\n",
       "      <td>2021-08-12</td>\n",
       "      <td>0</td>\n",
       "      <td>0</td>\n",
       "      <td>0</td>\n",
       "      <td>0</td>\n",
       "      <td>0</td>\n",
       "      <td>0</td>\n",
       "      <td>020d85399e47037b2ff0afc16b7dd45589a4dca5d30f31...</td>\n",
       "      <td>2021-08-12</td>\n",
       "      <td>2021-08-12</td>\n",
       "    </tr>\n",
       "    <tr>\n",
       "      <th>1354140</th>\n",
       "      <td>PUSH</td>\n",
       "      <td>2021-08-12</td>\n",
       "      <td>0</td>\n",
       "      <td>0</td>\n",
       "      <td>0</td>\n",
       "      <td>0</td>\n",
       "      <td>0</td>\n",
       "      <td>0</td>\n",
       "      <td>c98adaf0a455f0d0fbe67190c661aa1069e7c5765143b2...</td>\n",
       "      <td>2021-08-14</td>\n",
       "      <td>2021-08-12</td>\n",
       "    </tr>\n",
       "  </tbody>\n",
       "</table>\n",
       "<p>21172 rows × 11 columns</p>\n",
       "</div>"
      ],
      "text/plain": [
       "        channel_type contact_dt_x  control_group_flg  sent  delivered  opened  \\\n",
       "25              PUSH   2021-08-12                  0     0          0       0   \n",
       "74              PUSH   2021-08-12                  0     0          0       0   \n",
       "250            EMAIL   2021-08-12                  0     1          1       1   \n",
       "277            EMAIL   2021-08-13                  0     1          1       0   \n",
       "372            EMAIL   2021-08-13                  0     1          1       0   \n",
       "...              ...          ...                ...   ...        ...     ...   \n",
       "1353740        EMAIL   2021-08-12                  0     1          1       0   \n",
       "1353802        EMAIL   2021-08-12                  0     1          1       0   \n",
       "1353816         PUSH   2021-08-12                  0     0          0       0   \n",
       "1353917         PUSH   2021-08-12                  0     0          0       0   \n",
       "1354140         PUSH   2021-08-12                  0     0          0       0   \n",
       "\n",
       "         clicked  blocked                                            cust_id  \\\n",
       "25             0        0  2823d67a9a2e42452650561815434999b9e059f9b8d84b...   \n",
       "74             0        0  4790e99c042e386a3fe2866df0f59f260db5e1718a8eee...   \n",
       "250            0        0  f1b6e14260e2f73275e0a32c06233cf9cde14c662701b4...   \n",
       "277            0        0  3bf6dc99ff2f2947a6d9a6ee384f5136802046fddad177...   \n",
       "372            0        0  eee85b9c2bd86c1e5135a13d6da2c92c63792988019d2f...   \n",
       "...          ...      ...                                                ...   \n",
       "1353740        0        0  77d9e39b32c954a7c4156a067f057a94e223a33fb0506b...   \n",
       "1353802        0        0  199b60807bae694584ae75eda5f51db554c71689f2fe0e...   \n",
       "1353816        0        0  893802f26670a8b67391a1a62973beec4521ed03644041...   \n",
       "1353917        0        0  020d85399e47037b2ff0afc16b7dd45589a4dca5d30f31...   \n",
       "1354140        0        0  c98adaf0a455f0d0fbe67190c661aa1069e7c5765143b2...   \n",
       "\n",
       "           open_dt contact_dt_y  \n",
       "25      2021-08-12   2021-08-12  \n",
       "74      2021-08-18   2021-08-12  \n",
       "250     2021-08-20   2021-08-12  \n",
       "277     2021-08-20   2021-08-13  \n",
       "372     2021-08-27   2021-08-13  \n",
       "...            ...          ...  \n",
       "1353740 2021-08-13   2021-08-12  \n",
       "1353802 2021-08-25   2021-08-12  \n",
       "1353816 2021-08-26   2021-08-12  \n",
       "1353917 2021-08-12   2021-08-12  \n",
       "1354140 2021-08-14   2021-08-12  \n",
       "\n",
       "[21172 rows x 11 columns]"
      ]
     },
     "execution_count": 74,
     "metadata": {},
     "output_type": "execute_result"
    }
   ],
   "source": [
    "df_conv_rate[df_conv_rate['contact_dt_x'] == df_conv_rate['contact_dt_y']]"
   ]
  },
  {
   "cell_type": "code",
   "execution_count": null,
   "metadata": {},
   "outputs": [],
   "source": [
    "conv_rate =         round(len(df_conv_rate[(~df_conv_rate['open_dt'].isna()) & (df_conv_rate['delivered'] == 1)]) /\n",
    "                    len(df_conv_rate[df_conv_rate['delivered'] == 1]) * 100, 2)"
   ]
  },
  {
   "cell_type": "code",
   "execution_count": null,
   "metadata": {},
   "outputs": [
    {
     "name": "stdout",
     "output_type": "stream",
     "text": [
      "Conversion rate:  1.45 %\n"
     ]
    }
   ],
   "source": [
    "print('Conversion rate: ', conv_rate, '%')"
   ]
  },
  {
   "cell_type": "code",
   "execution_count": 125,
   "metadata": {},
   "outputs": [
    {
     "data": {
      "text/html": [
       "<div>\n",
       "<style scoped>\n",
       "    .dataframe tbody tr th:only-of-type {\n",
       "        vertical-align: middle;\n",
       "    }\n",
       "\n",
       "    .dataframe tbody tr th {\n",
       "        vertical-align: top;\n",
       "    }\n",
       "\n",
       "    .dataframe thead th {\n",
       "        text-align: right;\n",
       "    }\n",
       "</style>\n",
       "<table border=\"1\" class=\"dataframe\">\n",
       "  <thead>\n",
       "    <tr style=\"text-align: right;\">\n",
       "      <th></th>\n",
       "      <th>control_group_flg</th>\n",
       "      <th>sent</th>\n",
       "      <th>delivered</th>\n",
       "      <th>opened</th>\n",
       "      <th>clicked</th>\n",
       "      <th>blocked</th>\n",
       "    </tr>\n",
       "  </thead>\n",
       "  <tbody>\n",
       "    <tr>\n",
       "      <th>count</th>\n",
       "      <td>102680.0</td>\n",
       "      <td>102680.0</td>\n",
       "      <td>102680.0</td>\n",
       "      <td>102680.0</td>\n",
       "      <td>102680.0</td>\n",
       "      <td>102680.0</td>\n",
       "    </tr>\n",
       "    <tr>\n",
       "      <th>mean</th>\n",
       "      <td>1.0</td>\n",
       "      <td>0.0</td>\n",
       "      <td>0.0</td>\n",
       "      <td>0.0</td>\n",
       "      <td>0.0</td>\n",
       "      <td>0.0</td>\n",
       "    </tr>\n",
       "    <tr>\n",
       "      <th>std</th>\n",
       "      <td>0.0</td>\n",
       "      <td>0.0</td>\n",
       "      <td>0.0</td>\n",
       "      <td>0.0</td>\n",
       "      <td>0.0</td>\n",
       "      <td>0.0</td>\n",
       "    </tr>\n",
       "    <tr>\n",
       "      <th>min</th>\n",
       "      <td>1.0</td>\n",
       "      <td>0.0</td>\n",
       "      <td>0.0</td>\n",
       "      <td>0.0</td>\n",
       "      <td>0.0</td>\n",
       "      <td>0.0</td>\n",
       "    </tr>\n",
       "    <tr>\n",
       "      <th>25%</th>\n",
       "      <td>1.0</td>\n",
       "      <td>0.0</td>\n",
       "      <td>0.0</td>\n",
       "      <td>0.0</td>\n",
       "      <td>0.0</td>\n",
       "      <td>0.0</td>\n",
       "    </tr>\n",
       "    <tr>\n",
       "      <th>50%</th>\n",
       "      <td>1.0</td>\n",
       "      <td>0.0</td>\n",
       "      <td>0.0</td>\n",
       "      <td>0.0</td>\n",
       "      <td>0.0</td>\n",
       "      <td>0.0</td>\n",
       "    </tr>\n",
       "    <tr>\n",
       "      <th>75%</th>\n",
       "      <td>1.0</td>\n",
       "      <td>0.0</td>\n",
       "      <td>0.0</td>\n",
       "      <td>0.0</td>\n",
       "      <td>0.0</td>\n",
       "      <td>0.0</td>\n",
       "    </tr>\n",
       "    <tr>\n",
       "      <th>max</th>\n",
       "      <td>1.0</td>\n",
       "      <td>0.0</td>\n",
       "      <td>0.0</td>\n",
       "      <td>0.0</td>\n",
       "      <td>0.0</td>\n",
       "      <td>0.0</td>\n",
       "    </tr>\n",
       "  </tbody>\n",
       "</table>\n",
       "</div>"
      ],
      "text/plain": [
       "       control_group_flg      sent  delivered    opened   clicked   blocked\n",
       "count           102680.0  102680.0   102680.0  102680.0  102680.0  102680.0\n",
       "mean                 1.0       0.0        0.0       0.0       0.0       0.0\n",
       "std                  0.0       0.0        0.0       0.0       0.0       0.0\n",
       "min                  1.0       0.0        0.0       0.0       0.0       0.0\n",
       "25%                  1.0       0.0        0.0       0.0       0.0       0.0\n",
       "50%                  1.0       0.0        0.0       0.0       0.0       0.0\n",
       "75%                  1.0       0.0        0.0       0.0       0.0       0.0\n",
       "max                  1.0       0.0        0.0       0.0       0.0       0.0"
      ]
     },
     "execution_count": 125,
     "metadata": {},
     "output_type": "execute_result"
    }
   ],
   "source": [
    "comm_comp_control_g.describe()"
   ]
  },
  {
   "cell_type": "markdown",
   "metadata": {},
   "source": [
    "## Prepare Test and Control Group Datasets"
   ]
  },
  {
   "cell_type": "markdown",
   "metadata": {},
   "source": [
    "Let's enriche our data about customers and their transactions by joining tables"
   ]
  },
  {
   "cell_type": "code",
   "execution_count": 48,
   "metadata": {},
   "outputs": [
    {
     "data": {
      "text/plain": [
       "(21424, 3)"
      ]
     },
     "execution_count": 48,
     "metadata": {},
     "output_type": "execute_result"
    }
   ],
   "source": [
    "card_open.shape"
   ]
  },
  {
   "cell_type": "code",
   "execution_count": 56,
   "metadata": {},
   "outputs": [],
   "source": [
    "customers_dictionary = features[['cust_id', 'client_segment', 'gender', 'age_gr']].drop_duplicates()"
   ]
  },
  {
   "cell_type": "code",
   "execution_count": 58,
   "metadata": {},
   "outputs": [
    {
     "data": {
      "text/plain": [
       "(1761298, 4)"
      ]
     },
     "execution_count": 58,
     "metadata": {},
     "output_type": "execute_result"
    }
   ],
   "source": [
    "customers_dictionary.shape"
   ]
  },
  {
   "cell_type": "code",
   "execution_count": 61,
   "metadata": {},
   "outputs": [],
   "source": [
    "customers_dictionary.to_csv('data/customer_dictionary.csv', index=False)"
   ]
  },
  {
   "cell_type": "code",
   "execution_count": 63,
   "metadata": {},
   "outputs": [
    {
     "data": {
      "text/plain": [
       "(396564, 4)"
      ]
     },
     "execution_count": 63,
     "metadata": {},
     "output_type": "execute_result"
    }
   ],
   "source": [
    "visa_trans.shape"
   ]
  },
  {
   "cell_type": "code",
   "execution_count": 62,
   "metadata": {},
   "outputs": [],
   "source": [
    "test_group_prp = pd.merge(visa_trans, customers_dictionary, how='left', on='cust_id')"
   ]
  },
  {
   "cell_type": "code",
   "execution_count": 64,
   "metadata": {},
   "outputs": [
    {
     "data": {
      "text/plain": [
       "(396564, 7)"
      ]
     },
     "execution_count": 64,
     "metadata": {},
     "output_type": "execute_result"
    }
   ],
   "source": [
    "test_group_prp.shape"
   ]
  },
  {
   "cell_type": "code",
   "execution_count": 65,
   "metadata": {},
   "outputs": [
    {
     "data": {
      "text/html": [
       "<div>\n",
       "<style scoped>\n",
       "    .dataframe tbody tr th:only-of-type {\n",
       "        vertical-align: middle;\n",
       "    }\n",
       "\n",
       "    .dataframe tbody tr th {\n",
       "        vertical-align: top;\n",
       "    }\n",
       "\n",
       "    .dataframe thead th {\n",
       "        text-align: right;\n",
       "    }\n",
       "</style>\n",
       "<table border=\"1\" class=\"dataframe\">\n",
       "  <thead>\n",
       "    <tr style=\"text-align: right;\">\n",
       "      <th></th>\n",
       "      <th>cust_id</th>\n",
       "      <th>transaction_dt</th>\n",
       "      <th>mcc_id</th>\n",
       "      <th>txn_sum</th>\n",
       "      <th>client_segment</th>\n",
       "      <th>gender</th>\n",
       "      <th>age_gr</th>\n",
       "    </tr>\n",
       "  </thead>\n",
       "  <tbody>\n",
       "    <tr>\n",
       "      <th>0</th>\n",
       "      <td>db5e62076fad2729571f211d7ca4d5be1ba71e7563efbb...</td>\n",
       "      <td>2021-09-09</td>\n",
       "      <td>5399</td>\n",
       "      <td>2322.00</td>\n",
       "      <td>NaN</td>\n",
       "      <td>NaN</td>\n",
       "      <td>NaN</td>\n",
       "    </tr>\n",
       "    <tr>\n",
       "      <th>1</th>\n",
       "      <td>9fc01d326a0adcb9caaabe298064b8a26aa711878cf89f...</td>\n",
       "      <td>2021-09-07</td>\n",
       "      <td>5533</td>\n",
       "      <td>1245.00</td>\n",
       "      <td>MVS LIGHT</td>\n",
       "      <td>M</td>\n",
       "      <td>40-60</td>\n",
       "    </tr>\n",
       "    <tr>\n",
       "      <th>2</th>\n",
       "      <td>7afcb430aaf9baa1786d36ffcdf3efec0f4f6fe41b32fc...</td>\n",
       "      <td>2021-08-30</td>\n",
       "      <td>5921</td>\n",
       "      <td>29.99</td>\n",
       "      <td>MVS LIGHT</td>\n",
       "      <td>F</td>\n",
       "      <td>25-40</td>\n",
       "    </tr>\n",
       "    <tr>\n",
       "      <th>3</th>\n",
       "      <td>79a2d16cd93c5d15120f30f4a6a0b39060f6cdde7486c8...</td>\n",
       "      <td>2021-09-04</td>\n",
       "      <td>5211</td>\n",
       "      <td>110.00</td>\n",
       "      <td>MASS</td>\n",
       "      <td>F</td>\n",
       "      <td>25-40</td>\n",
       "    </tr>\n",
       "    <tr>\n",
       "      <th>4</th>\n",
       "      <td>0c10b18ba26cb55e4b1aed9146cf359d034fa872feeba6...</td>\n",
       "      <td>2021-08-31</td>\n",
       "      <td>5441</td>\n",
       "      <td>45.00</td>\n",
       "      <td>MASS</td>\n",
       "      <td>F</td>\n",
       "      <td>25-40</td>\n",
       "    </tr>\n",
       "    <tr>\n",
       "      <th>...</th>\n",
       "      <td>...</td>\n",
       "      <td>...</td>\n",
       "      <td>...</td>\n",
       "      <td>...</td>\n",
       "      <td>...</td>\n",
       "      <td>...</td>\n",
       "      <td>...</td>\n",
       "    </tr>\n",
       "    <tr>\n",
       "      <th>396559</th>\n",
       "      <td>7eb6a55c4ae62e156db06e84b0d245c7a815719f8a0f4d...</td>\n",
       "      <td>2021-09-11</td>\n",
       "      <td>5331</td>\n",
       "      <td>581.00</td>\n",
       "      <td>MVS LIGHT</td>\n",
       "      <td>M</td>\n",
       "      <td>25-40</td>\n",
       "    </tr>\n",
       "    <tr>\n",
       "      <th>396560</th>\n",
       "      <td>17a3565716c33f7ab9490a827b0c648e17242bd765605b...</td>\n",
       "      <td>2021-08-28</td>\n",
       "      <td>7994</td>\n",
       "      <td>301.13</td>\n",
       "      <td>MASS</td>\n",
       "      <td>F</td>\n",
       "      <td>&lt;25</td>\n",
       "    </tr>\n",
       "    <tr>\n",
       "      <th>396561</th>\n",
       "      <td>a87ec8e7f0c822fe79f061aa9b4424286103d1340b0062...</td>\n",
       "      <td>2021-09-01</td>\n",
       "      <td>5411</td>\n",
       "      <td>149.98</td>\n",
       "      <td>MASS</td>\n",
       "      <td>M</td>\n",
       "      <td>&lt;25</td>\n",
       "    </tr>\n",
       "    <tr>\n",
       "      <th>396562</th>\n",
       "      <td>5744d94764a7319bd2a8baea046cf7ba3e0dca1b0b4e52...</td>\n",
       "      <td>2021-08-26</td>\n",
       "      <td>5812</td>\n",
       "      <td>291.40</td>\n",
       "      <td>MASS</td>\n",
       "      <td>M</td>\n",
       "      <td>40-60</td>\n",
       "    </tr>\n",
       "    <tr>\n",
       "      <th>396563</th>\n",
       "      <td>9393729c2c93244b7d8994cbf98f3afefad735a3276462...</td>\n",
       "      <td>2021-08-27</td>\n",
       "      <td>6300</td>\n",
       "      <td>3290.66</td>\n",
       "      <td>MVS LIGHT</td>\n",
       "      <td>M</td>\n",
       "      <td>40-60</td>\n",
       "    </tr>\n",
       "  </tbody>\n",
       "</table>\n",
       "<p>396564 rows × 7 columns</p>\n",
       "</div>"
      ],
      "text/plain": [
       "                                                  cust_id transaction_dt  \\\n",
       "0       db5e62076fad2729571f211d7ca4d5be1ba71e7563efbb...     2021-09-09   \n",
       "1       9fc01d326a0adcb9caaabe298064b8a26aa711878cf89f...     2021-09-07   \n",
       "2       7afcb430aaf9baa1786d36ffcdf3efec0f4f6fe41b32fc...     2021-08-30   \n",
       "3       79a2d16cd93c5d15120f30f4a6a0b39060f6cdde7486c8...     2021-09-04   \n",
       "4       0c10b18ba26cb55e4b1aed9146cf359d034fa872feeba6...     2021-08-31   \n",
       "...                                                   ...            ...   \n",
       "396559  7eb6a55c4ae62e156db06e84b0d245c7a815719f8a0f4d...     2021-09-11   \n",
       "396560  17a3565716c33f7ab9490a827b0c648e17242bd765605b...     2021-08-28   \n",
       "396561  a87ec8e7f0c822fe79f061aa9b4424286103d1340b0062...     2021-09-01   \n",
       "396562  5744d94764a7319bd2a8baea046cf7ba3e0dca1b0b4e52...     2021-08-26   \n",
       "396563  9393729c2c93244b7d8994cbf98f3afefad735a3276462...     2021-08-27   \n",
       "\n",
       "        mcc_id  txn_sum client_segment gender age_gr  \n",
       "0         5399  2322.00            NaN    NaN    NaN  \n",
       "1         5533  1245.00      MVS LIGHT      M  40-60  \n",
       "2         5921    29.99      MVS LIGHT      F  25-40  \n",
       "3         5211   110.00           MASS      F  25-40  \n",
       "4         5441    45.00           MASS      F  25-40  \n",
       "...        ...      ...            ...    ...    ...  \n",
       "396559    5331   581.00      MVS LIGHT      M  25-40  \n",
       "396560    7994   301.13           MASS      F    <25  \n",
       "396561    5411   149.98           MASS      M    <25  \n",
       "396562    5812   291.40           MASS      M  40-60  \n",
       "396563    6300  3290.66      MVS LIGHT      M  40-60  \n",
       "\n",
       "[396564 rows x 7 columns]"
      ]
     },
     "execution_count": 65,
     "metadata": {},
     "output_type": "execute_result"
    }
   ],
   "source": [
    "test_group_prp"
   ]
  },
  {
   "cell_type": "code",
   "execution_count": 83,
   "metadata": {},
   "outputs": [],
   "source": [
    "test_group = pd.merge(test_group_prp, card_open, how='inner', on='cust_id')"
   ]
  },
  {
   "cell_type": "code",
   "execution_count": 84,
   "metadata": {},
   "outputs": [
    {
     "data": {
      "text/plain": [
       "(396564, 9)"
      ]
     },
     "execution_count": 84,
     "metadata": {},
     "output_type": "execute_result"
    }
   ],
   "source": [
    "test_group.shape"
   ]
  },
  {
   "cell_type": "code",
   "execution_count": 68,
   "metadata": {},
   "outputs": [
    {
     "data": {
      "text/html": [
       "<div>\n",
       "<style scoped>\n",
       "    .dataframe tbody tr th:only-of-type {\n",
       "        vertical-align: middle;\n",
       "    }\n",
       "\n",
       "    .dataframe tbody tr th {\n",
       "        vertical-align: top;\n",
       "    }\n",
       "\n",
       "    .dataframe thead th {\n",
       "        text-align: right;\n",
       "    }\n",
       "</style>\n",
       "<table border=\"1\" class=\"dataframe\">\n",
       "  <thead>\n",
       "    <tr style=\"text-align: right;\">\n",
       "      <th></th>\n",
       "      <th>cust_id</th>\n",
       "      <th>transaction_dt</th>\n",
       "      <th>mcc_id</th>\n",
       "      <th>txn_sum</th>\n",
       "      <th>client_segment</th>\n",
       "      <th>gender</th>\n",
       "      <th>age_gr</th>\n",
       "      <th>open_dt</th>\n",
       "      <th>contact_dt</th>\n",
       "    </tr>\n",
       "  </thead>\n",
       "  <tbody>\n",
       "    <tr>\n",
       "      <th>0</th>\n",
       "      <td>db5e62076fad2729571f211d7ca4d5be1ba71e7563efbb...</td>\n",
       "      <td>2021-09-09</td>\n",
       "      <td>5399</td>\n",
       "      <td>2322.00</td>\n",
       "      <td>NaN</td>\n",
       "      <td>NaN</td>\n",
       "      <td>NaN</td>\n",
       "      <td>2021-08-13</td>\n",
       "      <td>2021-08-12</td>\n",
       "    </tr>\n",
       "    <tr>\n",
       "      <th>1</th>\n",
       "      <td>db5e62076fad2729571f211d7ca4d5be1ba71e7563efbb...</td>\n",
       "      <td>2021-09-02</td>\n",
       "      <td>5541</td>\n",
       "      <td>1499.98</td>\n",
       "      <td>NaN</td>\n",
       "      <td>NaN</td>\n",
       "      <td>NaN</td>\n",
       "      <td>2021-08-13</td>\n",
       "      <td>2021-08-12</td>\n",
       "    </tr>\n",
       "    <tr>\n",
       "      <th>2</th>\n",
       "      <td>db5e62076fad2729571f211d7ca4d5be1ba71e7563efbb...</td>\n",
       "      <td>2021-09-15</td>\n",
       "      <td>5399</td>\n",
       "      <td>2010.00</td>\n",
       "      <td>NaN</td>\n",
       "      <td>NaN</td>\n",
       "      <td>NaN</td>\n",
       "      <td>2021-08-13</td>\n",
       "      <td>2021-08-12</td>\n",
       "    </tr>\n",
       "    <tr>\n",
       "      <th>3</th>\n",
       "      <td>db5e62076fad2729571f211d7ca4d5be1ba71e7563efbb...</td>\n",
       "      <td>2021-08-28</td>\n",
       "      <td>5499</td>\n",
       "      <td>476.00</td>\n",
       "      <td>NaN</td>\n",
       "      <td>NaN</td>\n",
       "      <td>NaN</td>\n",
       "      <td>2021-08-13</td>\n",
       "      <td>2021-08-12</td>\n",
       "    </tr>\n",
       "    <tr>\n",
       "      <th>4</th>\n",
       "      <td>db5e62076fad2729571f211d7ca4d5be1ba71e7563efbb...</td>\n",
       "      <td>2021-08-30</td>\n",
       "      <td>5399</td>\n",
       "      <td>2536.00</td>\n",
       "      <td>NaN</td>\n",
       "      <td>NaN</td>\n",
       "      <td>NaN</td>\n",
       "      <td>2021-08-13</td>\n",
       "      <td>2021-08-12</td>\n",
       "    </tr>\n",
       "    <tr>\n",
       "      <th>...</th>\n",
       "      <td>...</td>\n",
       "      <td>...</td>\n",
       "      <td>...</td>\n",
       "      <td>...</td>\n",
       "      <td>...</td>\n",
       "      <td>...</td>\n",
       "      <td>...</td>\n",
       "      <td>...</td>\n",
       "      <td>...</td>\n",
       "    </tr>\n",
       "    <tr>\n",
       "      <th>396559</th>\n",
       "      <td>bfd06350e20bf9a09d547671bae4a0245ed9cdcda09395...</td>\n",
       "      <td>2021-08-29</td>\n",
       "      <td>5541</td>\n",
       "      <td>999.89</td>\n",
       "      <td>MASS</td>\n",
       "      <td>F</td>\n",
       "      <td>25-40</td>\n",
       "      <td>2021-08-25</td>\n",
       "      <td>2021-08-12</td>\n",
       "    </tr>\n",
       "    <tr>\n",
       "      <th>396560</th>\n",
       "      <td>258e37b4b396d01737acb8274ebb3241a0ac20c2bb882c...</td>\n",
       "      <td>2021-08-30</td>\n",
       "      <td>7999</td>\n",
       "      <td>792.60</td>\n",
       "      <td>MASS</td>\n",
       "      <td>F</td>\n",
       "      <td>&lt;25</td>\n",
       "      <td>2021-08-24</td>\n",
       "      <td>2021-08-12</td>\n",
       "    </tr>\n",
       "    <tr>\n",
       "      <th>396561</th>\n",
       "      <td>68696e369dd5a65cadd21a52d16c21b93c6289379dfd6e...</td>\n",
       "      <td>2021-08-26</td>\n",
       "      <td>5812</td>\n",
       "      <td>106.00</td>\n",
       "      <td>MVS UPPER</td>\n",
       "      <td>F</td>\n",
       "      <td>60+</td>\n",
       "      <td>2021-08-24</td>\n",
       "      <td>2021-08-12</td>\n",
       "    </tr>\n",
       "    <tr>\n",
       "      <th>396562</th>\n",
       "      <td>ce21285f89fb0eb3bdb414e6c2998ced052817f3e8062e...</td>\n",
       "      <td>2021-09-15</td>\n",
       "      <td>5691</td>\n",
       "      <td>3699.00</td>\n",
       "      <td>MVS UPPER</td>\n",
       "      <td>F</td>\n",
       "      <td>&lt;25</td>\n",
       "      <td>2021-08-23</td>\n",
       "      <td>2021-08-12</td>\n",
       "    </tr>\n",
       "    <tr>\n",
       "      <th>396563</th>\n",
       "      <td>516a31a866c9fb2c963ae2482b84c133173b5493db9109...</td>\n",
       "      <td>2021-09-04</td>\n",
       "      <td>5814</td>\n",
       "      <td>545.00</td>\n",
       "      <td>MASS</td>\n",
       "      <td>M</td>\n",
       "      <td>&lt;25</td>\n",
       "      <td>2021-08-26</td>\n",
       "      <td>2021-08-12</td>\n",
       "    </tr>\n",
       "  </tbody>\n",
       "</table>\n",
       "<p>396564 rows × 9 columns</p>\n",
       "</div>"
      ],
      "text/plain": [
       "                                                  cust_id transaction_dt  \\\n",
       "0       db5e62076fad2729571f211d7ca4d5be1ba71e7563efbb...     2021-09-09   \n",
       "1       db5e62076fad2729571f211d7ca4d5be1ba71e7563efbb...     2021-09-02   \n",
       "2       db5e62076fad2729571f211d7ca4d5be1ba71e7563efbb...     2021-09-15   \n",
       "3       db5e62076fad2729571f211d7ca4d5be1ba71e7563efbb...     2021-08-28   \n",
       "4       db5e62076fad2729571f211d7ca4d5be1ba71e7563efbb...     2021-08-30   \n",
       "...                                                   ...            ...   \n",
       "396559  bfd06350e20bf9a09d547671bae4a0245ed9cdcda09395...     2021-08-29   \n",
       "396560  258e37b4b396d01737acb8274ebb3241a0ac20c2bb882c...     2021-08-30   \n",
       "396561  68696e369dd5a65cadd21a52d16c21b93c6289379dfd6e...     2021-08-26   \n",
       "396562  ce21285f89fb0eb3bdb414e6c2998ced052817f3e8062e...     2021-09-15   \n",
       "396563  516a31a866c9fb2c963ae2482b84c133173b5493db9109...     2021-09-04   \n",
       "\n",
       "        mcc_id  txn_sum client_segment gender age_gr    open_dt contact_dt  \n",
       "0         5399  2322.00            NaN    NaN    NaN 2021-08-13 2021-08-12  \n",
       "1         5541  1499.98            NaN    NaN    NaN 2021-08-13 2021-08-12  \n",
       "2         5399  2010.00            NaN    NaN    NaN 2021-08-13 2021-08-12  \n",
       "3         5499   476.00            NaN    NaN    NaN 2021-08-13 2021-08-12  \n",
       "4         5399  2536.00            NaN    NaN    NaN 2021-08-13 2021-08-12  \n",
       "...        ...      ...            ...    ...    ...        ...        ...  \n",
       "396559    5541   999.89           MASS      F  25-40 2021-08-25 2021-08-12  \n",
       "396560    7999   792.60           MASS      F    <25 2021-08-24 2021-08-12  \n",
       "396561    5812   106.00      MVS UPPER      F    60+ 2021-08-24 2021-08-12  \n",
       "396562    5691  3699.00      MVS UPPER      F    <25 2021-08-23 2021-08-12  \n",
       "396563    5814   545.00           MASS      M    <25 2021-08-26 2021-08-12  \n",
       "\n",
       "[396564 rows x 9 columns]"
      ]
     },
     "execution_count": 68,
     "metadata": {},
     "output_type": "execute_result"
    }
   ],
   "source": [
    "test_group"
   ]
  },
  {
   "cell_type": "code",
   "execution_count": 85,
   "metadata": {},
   "outputs": [
    {
     "data": {
      "text/html": [
       "<div>\n",
       "<style scoped>\n",
       "    .dataframe tbody tr th:only-of-type {\n",
       "        vertical-align: middle;\n",
       "    }\n",
       "\n",
       "    .dataframe tbody tr th {\n",
       "        vertical-align: top;\n",
       "    }\n",
       "\n",
       "    .dataframe thead th {\n",
       "        text-align: right;\n",
       "    }\n",
       "</style>\n",
       "<table border=\"1\" class=\"dataframe\">\n",
       "  <thead>\n",
       "    <tr style=\"text-align: right;\">\n",
       "      <th></th>\n",
       "      <th>mcc_id</th>\n",
       "      <th>txn_sum</th>\n",
       "    </tr>\n",
       "  </thead>\n",
       "  <tbody>\n",
       "    <tr>\n",
       "      <th>count</th>\n",
       "      <td>396564.000000</td>\n",
       "      <td>3.965640e+05</td>\n",
       "    </tr>\n",
       "    <tr>\n",
       "      <th>mean</th>\n",
       "      <td>5525.351963</td>\n",
       "      <td>8.075815e+02</td>\n",
       "    </tr>\n",
       "    <tr>\n",
       "      <th>std</th>\n",
       "      <td>751.054988</td>\n",
       "      <td>1.451721e+04</td>\n",
       "    </tr>\n",
       "    <tr>\n",
       "      <th>min</th>\n",
       "      <td>742.000000</td>\n",
       "      <td>4.000000e-02</td>\n",
       "    </tr>\n",
       "    <tr>\n",
       "      <th>50%</th>\n",
       "      <td>5462.000000</td>\n",
       "      <td>2.678550e+02</td>\n",
       "    </tr>\n",
       "    <tr>\n",
       "      <th>80%</th>\n",
       "      <td>5814.000000</td>\n",
       "      <td>7.924520e+02</td>\n",
       "    </tr>\n",
       "    <tr>\n",
       "      <th>99%</th>\n",
       "      <td>8211.000000</td>\n",
       "      <td>7.821000e+03</td>\n",
       "    </tr>\n",
       "    <tr>\n",
       "      <th>max</th>\n",
       "      <td>9998.000000</td>\n",
       "      <td>8.490000e+06</td>\n",
       "    </tr>\n",
       "  </tbody>\n",
       "</table>\n",
       "</div>"
      ],
      "text/plain": [
       "              mcc_id       txn_sum\n",
       "count  396564.000000  3.965640e+05\n",
       "mean     5525.351963  8.075815e+02\n",
       "std       751.054988  1.451721e+04\n",
       "min       742.000000  4.000000e-02\n",
       "50%      5462.000000  2.678550e+02\n",
       "80%      5814.000000  7.924520e+02\n",
       "99%      8211.000000  7.821000e+03\n",
       "max      9998.000000  8.490000e+06"
      ]
     },
     "execution_count": 85,
     "metadata": {},
     "output_type": "execute_result"
    }
   ],
   "source": [
    "test_group.describe(percentiles=[.8, .99])"
   ]
  },
  {
   "cell_type": "code",
   "execution_count": 86,
   "metadata": {},
   "outputs": [],
   "source": [
    "test_group = test_group[test_group['txn_sum'] < 7.821000e+03]"
   ]
  },
  {
   "cell_type": "code",
   "execution_count": 87,
   "metadata": {},
   "outputs": [
    {
     "data": {
      "text/plain": [
       "(392597, 9)"
      ]
     },
     "execution_count": 87,
     "metadata": {},
     "output_type": "execute_result"
    }
   ],
   "source": [
    "test_group.shape"
   ]
  },
  {
   "cell_type": "code",
   "execution_count": 92,
   "metadata": {},
   "outputs": [
    {
     "data": {
      "image/png": "[encoded data removed]",
      "text/plain": [
       "<Figure size 1080x360 with 1 Axes>"
      ]
     },
     "metadata": {
      "needs_background": "light"
     },
     "output_type": "display_data"
    }
   ],
   "source": [
    "test_group['txn_sum'].hist(figsize=(15,5), bins=100)\n",
    "\n",
    "plt.title('Transaction Sum Distirubution Test Group')\n",
    "plt.show()"
   ]
  },
  {
   "cell_type": "code",
   "execution_count": 93,
   "metadata": {},
   "outputs": [
    {
     "name": "stdout",
     "output_type": "stream",
     "text": [
      "<class 'pandas.core.frame.DataFrame'>\n",
      "Int64Index: 392597 entries, 0 to 396563\n",
      "Data columns (total 9 columns):\n",
      " #   Column          Non-Null Count   Dtype         \n",
      "---  ------          --------------   -----         \n",
      " 0   cust_id         392597 non-null  object        \n",
      " 1   transaction_dt  392597 non-null  datetime64[ns]\n",
      " 2   mcc_id          392597 non-null  int64         \n",
      " 3   txn_sum         392597 non-null  float64       \n",
      " 4   client_segment  377067 non-null  object        \n",
      " 5   gender          377067 non-null  object        \n",
      " 6   age_gr          377067 non-null  object        \n",
      " 7   open_dt         392597 non-null  datetime64[ns]\n",
      " 8   contact_dt      392597 non-null  datetime64[ns]\n",
      "dtypes: datetime64[ns](3), float64(1), int64(1), object(4)\n",
      "memory usage: 30.0+ MB\n"
     ]
    }
   ],
   "source": [
    "test_group.info()"
   ]
  },
  {
   "cell_type": "code",
   "execution_count": 98,
   "metadata": {},
   "outputs": [
    {
     "name": "stdout",
     "output_type": "stream",
     "text": [
      "Number of customers in test group:  12954\n"
     ]
    }
   ],
   "source": [
    "print('Number of customers in test group: ', len(test_group['cust_id'].unique()))"
   ]
  },
  {
   "cell_type": "code",
   "execution_count": 113,
   "metadata": {},
   "outputs": [],
   "source": [
    "test_group_aggreg = test_group.groupby('transaction_dt')[['txn_sum', 'cust_id']].agg({'txn_sum': sum, 'cust_id': 'count'})\n",
    "\n",
    "test_group_aggreg['sum_by_cust'] = round(test_group_aggreg['txn_sum'] / test_group_aggreg['cust_id'], 2)"
   ]
  },
  {
   "cell_type": "code",
   "execution_count": 133,
   "metadata": {},
   "outputs": [
    {
     "data": {
      "text/plain": [
       "<AxesSubplot:ylabel='gender'>"
      ]
     },
     "execution_count": 133,
     "metadata": {},
     "output_type": "execute_result"
    },
    {
     "data": {
      "image/png": "[encoded data removed]",
      "text/plain": [
       "<Figure size 1080x360 with 1 Axes>"
      ]
     },
     "metadata": {
      "needs_background": "light"
     },
     "output_type": "display_data"
    }
   ],
   "source": [
    "test_group.groupby('gender')['cust_id'].nunique().sort_values().plot(kind='barh', figsize=(15,5))"
   ]
  },
  {
   "cell_type": "code",
   "execution_count": 154,
   "metadata": {},
   "outputs": [
    {
     "data": {
      "text/plain": [
       "<AxesSubplot:ylabel='age_gr'>"
      ]
     },
     "execution_count": 154,
     "metadata": {},
     "output_type": "execute_result"
    },
    {
     "data": {
      "image/png": "[encoded data removed]",
      "text/plain": [
       "<Figure size 1080x360 with 1 Axes>"
      ]
     },
     "metadata": {
      "needs_background": "light"
     },
     "output_type": "display_data"
    }
   ],
   "source": [
    "test_group.groupby('age_gr')['cust_id'].nunique().sort_values().plot(kind='barh', figsize=(15,5))"
   ]
  },
  {
   "cell_type": "code",
   "execution_count": 134,
   "metadata": {},
   "outputs": [
    {
     "data": {
      "text/plain": [
       "gender\n",
       "na     168\n",
       "M     4740\n",
       "F     7599\n",
       "Name: cust_id, dtype: int64"
      ]
     },
     "execution_count": 134,
     "metadata": {},
     "output_type": "execute_result"
    }
   ],
   "source": [
    "test_group.groupby('gender')['cust_id'].nunique().sort_values()"
   ]
  },
  {
   "cell_type": "markdown",
   "metadata": {},
   "source": [
    "Preparing control group"
   ]
  },
  {
   "cell_type": "code",
   "execution_count": 136,
   "metadata": {},
   "outputs": [],
   "source": [
    "control_group_prp = pd.merge(visa_trans_np, customers_dictionary, how='left', on='cust_id')"
   ]
  },
  {
   "cell_type": "code",
   "execution_count": 140,
   "metadata": {},
   "outputs": [],
   "source": [
    "control_group = pd.merge(control_group_prp, card_open_np, how='inner', on='cust_id')"
   ]
  },
  {
   "cell_type": "code",
   "execution_count": 143,
   "metadata": {},
   "outputs": [
    {
     "data": {
      "text/html": [
       "<div>\n",
       "<style scoped>\n",
       "    .dataframe tbody tr th:only-of-type {\n",
       "        vertical-align: middle;\n",
       "    }\n",
       "\n",
       "    .dataframe tbody tr th {\n",
       "        vertical-align: top;\n",
       "    }\n",
       "\n",
       "    .dataframe thead th {\n",
       "        text-align: right;\n",
       "    }\n",
       "</style>\n",
       "<table border=\"1\" class=\"dataframe\">\n",
       "  <thead>\n",
       "    <tr style=\"text-align: right;\">\n",
       "      <th></th>\n",
       "      <th>mcc_id</th>\n",
       "      <th>txn_sum</th>\n",
       "    </tr>\n",
       "  </thead>\n",
       "  <tbody>\n",
       "    <tr>\n",
       "      <th>count</th>\n",
       "      <td>543494.000000</td>\n",
       "      <td>5.434940e+05</td>\n",
       "    </tr>\n",
       "    <tr>\n",
       "      <th>mean</th>\n",
       "      <td>5554.215528</td>\n",
       "      <td>7.863055e+02</td>\n",
       "    </tr>\n",
       "    <tr>\n",
       "      <th>std</th>\n",
       "      <td>764.070955</td>\n",
       "      <td>6.723936e+03</td>\n",
       "    </tr>\n",
       "    <tr>\n",
       "      <th>min</th>\n",
       "      <td>742.000000</td>\n",
       "      <td>1.000000e-02</td>\n",
       "    </tr>\n",
       "    <tr>\n",
       "      <th>50%</th>\n",
       "      <td>5499.000000</td>\n",
       "      <td>2.743250e+02</td>\n",
       "    </tr>\n",
       "    <tr>\n",
       "      <th>80%</th>\n",
       "      <td>5912.000000</td>\n",
       "      <td>7.960000e+02</td>\n",
       "    </tr>\n",
       "    <tr>\n",
       "      <th>99%</th>\n",
       "      <td>8299.000000</td>\n",
       "      <td>7.598000e+03</td>\n",
       "    </tr>\n",
       "    <tr>\n",
       "      <th>max</th>\n",
       "      <td>9998.000000</td>\n",
       "      <td>2.630000e+06</td>\n",
       "    </tr>\n",
       "  </tbody>\n",
       "</table>\n",
       "</div>"
      ],
      "text/plain": [
       "              mcc_id       txn_sum\n",
       "count  543494.000000  5.434940e+05\n",
       "mean     5554.215528  7.863055e+02\n",
       "std       764.070955  6.723936e+03\n",
       "min       742.000000  1.000000e-02\n",
       "50%      5499.000000  2.743250e+02\n",
       "80%      5912.000000  7.960000e+02\n",
       "99%      8299.000000  7.598000e+03\n",
       "max      9998.000000  2.630000e+06"
      ]
     },
     "execution_count": 143,
     "metadata": {},
     "output_type": "execute_result"
    }
   ],
   "source": [
    "control_group.describe(percentiles=[.8, .99])"
   ]
  },
  {
   "cell_type": "code",
   "execution_count": 144,
   "metadata": {},
   "outputs": [],
   "source": [
    "control_group = control_group[control_group['txn_sum'] < 7.598000e+03]"
   ]
  },
  {
   "cell_type": "code",
   "execution_count": 145,
   "metadata": {},
   "outputs": [
    {
     "data": {
      "text/plain": [
       "(538058, 8)"
      ]
     },
     "execution_count": 145,
     "metadata": {},
     "output_type": "execute_result"
    }
   ],
   "source": [
    "control_group.shape"
   ]
  },
  {
   "cell_type": "code",
   "execution_count": 147,
   "metadata": {},
   "outputs": [
    {
     "data": {
      "image/png": "[encoded data removed]",
      "text/plain": [
       "<Figure size 1080x360 with 1 Axes>"
      ]
     },
     "metadata": {
      "needs_background": "light"
     },
     "output_type": "display_data"
    }
   ],
   "source": [
    "control_group['txn_sum'].hist(figsize=(15,5), bins=100)\n",
    "\n",
    "plt.title('Transaction Sum Distirubution Control Group')\n",
    "plt.show()"
   ]
  },
  {
   "cell_type": "code",
   "execution_count": 155,
   "metadata": {},
   "outputs": [
    {
     "data": {
      "text/plain": [
       "<AxesSubplot:ylabel='gender'>"
      ]
     },
     "execution_count": 155,
     "metadata": {},
     "output_type": "execute_result"
    },
    {
     "data": {
      "image/png": "[encoded data removed]",
      "text/plain": [
       "<Figure size 1080x360 with 1 Axes>"
      ]
     },
     "metadata": {
      "needs_background": "light"
     },
     "output_type": "display_data"
    }
   ],
   "source": [
    "control_group.groupby('gender')['cust_id'].nunique().sort_values().plot(kind='barh', figsize=(15,5))"
   ]
  },
  {
   "cell_type": "code",
   "execution_count": 156,
   "metadata": {},
   "outputs": [
    {
     "data": {
      "text/plain": [
       "<AxesSubplot:ylabel='age_gr'>"
      ]
     },
     "execution_count": 156,
     "metadata": {},
     "output_type": "execute_result"
    },
    {
     "data": {
      "image/png": "[encoded data removed]",
      "text/plain": [
       "<Figure size 1080x360 with 1 Axes>"
      ]
     },
     "metadata": {
      "needs_background": "light"
     },
     "output_type": "display_data"
    }
   ],
   "source": [
    "control_group.groupby('age_gr')['cust_id'].nunique().sort_values().plot(kind='barh', figsize=(15,5))"
   ]
  },
  {
   "cell_type": "code",
   "execution_count": 148,
   "metadata": {},
   "outputs": [],
   "source": [
    "control_group_aggreg = control_group.groupby('transaction_dt')[['txn_sum', 'cust_id']].agg({'txn_sum': sum, 'cust_id': 'count'})\n",
    "\n",
    "control_group_aggreg['sum_by_cust'] = round(control_group_aggreg['txn_sum'] / control_group_aggreg['cust_id'], 2)"
   ]
  },
  {
   "cell_type": "code",
   "execution_count": 150,
   "metadata": {},
   "outputs": [],
   "source": [
    "control_group.to_csv('data/control_group.csv')\n",
    "control_group_aggreg.to_csv('data/control_group_aggreg.csv')\n",
    "test_group_aggreg.to_csv('data/test_group_aggreg.csv')"
   ]
  },
  {
   "cell_type": "code",
   "execution_count": 153,
   "metadata": {},
   "outputs": [
    {
     "name": "stdout",
     "output_type": "stream",
     "text": [
      "Number of customers in control group:  14309\n"
     ]
    }
   ],
   "source": [
    "print('Number of customers in control group: ', len(control_group['cust_id'].unique()))"
   ]
  },
  {
   "cell_type": "code",
   "execution_count": 152,
   "metadata": {},
   "outputs": [
    {
     "data": {
      "image/png": "[encoded data removed]",
      "text/plain": [
       "<Figure size 1080x360 with 1 Axes>"
      ]
     },
     "metadata": {
      "needs_background": "light"
     },
     "output_type": "display_data"
    }
   ],
   "source": [
    "test_group_aggreg['txn_sum'].plot(figsize=(15,5), label='test group')\n",
    "control_group_aggreg['txn_sum'].plot(figsize=(15,5), label='control group')\n",
    "\n",
    "plt.legend()\n",
    "plt.show()"
   ]
  },
  {
   "cell_type": "markdown",
   "metadata": {},
   "source": [
    "## Financial Results analysis"
   ]
  },
  {
   "cell_type": "code",
   "execution_count": 47,
   "metadata": {},
   "outputs": [
    {
     "data": {
      "image/png": "[encoded data removed]",
      "text/plain": [
       "<Figure size 1080x360 with 1 Axes>"
      ]
     },
     "metadata": {
      "needs_background": "light"
     },
     "output_type": "display_data"
    }
   ],
   "source": [
    "visa_trans.groupby('transaction_dt')['txn_sum'].sum().plot(figsize=(15,5), label='participants')\n",
    "visa_trans_np.groupby('transaction_dt')['txn_sum'].sum().plot(figsize=(15,5), label='non participants')\n",
    "plt.axvline('2021-08-11', color='black', ls='--', label='communication start')\n",
    "plt.axvline('2021-08-25', color='blue', ls=':', label='communication end')\n",
    "\n",
    "plt.title('Sum of transactions per date')\n",
    "plt.legend()\n",
    "plt.show()"
   ]
  }
 ],
 "metadata": {
  "kernelspec": {
   "display_name": "Python 3.10.4 64-bit",
   "language": "python",
   "name": "python3"
  },
  "language_info": {
   "codemirror_mode": {
    "name": "ipython",
    "version": 3
   },
   "file_extension": ".py",
   "mimetype": "text/x-python",
   "name": "python",
   "nbconvert_exporter": "python",
   "pygments_lexer": "ipython3",
   "version": "3.10.4"
  },
  "orig_nbformat": 4,
  "vscode": {
   "interpreter": {
    "hash": "3e5df068846dd857fd8f6e2337ec975361106f93a8ad476be75c82b4dc19b61a"
   }
  }
 },
 "nbformat": 4,
 "nbformat_minor": 2
}
